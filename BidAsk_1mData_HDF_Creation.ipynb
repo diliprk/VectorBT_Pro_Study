{
 "cells": [
  {
   "cell_type": "code",
   "execution_count": 1,
   "metadata": {},
   "outputs": [],
   "source": [
    "import pandas as pd"
   ]
  },
  {
   "cell_type": "code",
   "execution_count": 2,
   "metadata": {},
   "outputs": [],
   "source": [
    "def read_bid_ask_data(ask_fname : str, bid_fname : str):\n",
    "    \"\"\"Reads and combines the bid and ask csv files into a single OHLCV dataframe.\"\"\"\n",
    "    df_ask = pd.read_csv(ask_fname, infer_datetime_format=True)\n",
    "    df_bid = pd.read_csv(bid_fname, infer_datetime_format=True)\n",
    "\n",
    "    df_avg = (df_bid[[\"Open\", \"High\", \"Low\", \"Close\", \"Volume\"]]+ df_ask[[\"Open\", \"High\", \"Low\", \"Close\", \"Volume\"]]) / 2.0\n",
    "    df_avg[\"time\"] = df_ask[\"Local time\"]\n",
    "    df_avg = df_avg[df_avg[\"Volume\"] > 0].reset_index()\n",
    "    df_avg[\"time\"] = df_avg[\"time\"].str.replace(r'.\\d{3} GMT-\\d\\d\\d\\d', '', regex = True) ## Strip ms and GMT TZ in time column\n",
    "    if \"index\" in list(df_avg):\n",
    "        df_avg.drop(labels = \"index\", axis = 1, inplace = True)\n",
    "    df_avg[\"time\"] = pd.to_datetime(df_avg[\"time\"], format='%d.%m.%Y %H:%M:%S')\n",
    "    df_avg.set_index(keys=\"time\", inplace = True)\n",
    "    # df_avg.columns= df_avg.columns.str.lower() \n",
    "    ## Results in ValueError: `data` must be a pandas.DataFrame with columns 'Open', 'High', 'Low', 'Close', and (optionally) 'Volume' for backtesting.py\n",
    "    return df_avg"
   ]
  },
  {
   "cell_type": "code",
   "execution_count": 3,
   "metadata": {},
   "outputs": [],
   "source": [
    "### DataFrame Slicing based on nr. of rows on 1m dataframe\n",
    "def slice_df_by_1m_rows(df : pd.DataFrame, nr_days_to_slice : int):\n",
    "    \"\"\"Slice the historical dataframe from most recent to the nr. of days specified\"\"\"\n",
    "    mins_per_day = 24 * 60\n",
    "    nr_days_to_slice = 365 * mins_per_day\n",
    "    df = df.iloc[-nr_days_to_slice:].reset_index(drop = True)\n",
    "    return df"
   ]
  },
  {
   "cell_type": "code",
   "execution_count": 4,
   "metadata": {},
   "outputs": [],
   "source": [
    "gu_ask_fname1 = \"/Users/dilip.rajkumar/Documents/QubitQuants/GBPUSD_Candlestick_1_M_ASK_27.08.2019-27.08.2022.csv\"\n",
    "gu_bid_fname2 = \"/Users/dilip.rajkumar/Documents/QubitQuants/GBPUSD_Candlestick_1_M_BID_27.08.2019-27.08.2022.csv\"\n",
    "df = read_bid_ask_data(gu_ask_fname1, gu_bid_fname2)"
   ]
  },
  {
   "cell_type": "code",
   "execution_count": 5,
   "metadata": {},
   "outputs": [
    {
     "name": "stdout",
     "output_type": "stream",
     "text": [
      "<class 'pandas.core.frame.DataFrame'>\n",
      "DatetimeIndex: 1122468 entries, 2019-08-27 00:00:00 to 2022-08-26 16:59:00\n",
      "Data columns (total 5 columns):\n",
      " #   Column  Non-Null Count    Dtype  \n",
      "---  ------  --------------    -----  \n",
      " 0   Open    1122468 non-null  float64\n",
      " 1   High    1122468 non-null  float64\n",
      " 2   Low     1122468 non-null  float64\n",
      " 3   Close   1122468 non-null  float64\n",
      " 4   Volume  1122468 non-null  float64\n",
      "dtypes: float64(5)\n",
      "memory usage: 51.4 MB\n"
     ]
    }
   ],
   "source": [
    "df.info()"
   ]
  },
  {
   "cell_type": "code",
   "execution_count": 6,
   "metadata": {},
   "outputs": [
    {
     "data": {
      "text/html": [
       "<div>\n",
       "<style scoped>\n",
       "    .dataframe tbody tr th:only-of-type {\n",
       "        vertical-align: middle;\n",
       "    }\n",
       "\n",
       "    .dataframe tbody tr th {\n",
       "        vertical-align: top;\n",
       "    }\n",
       "\n",
       "    .dataframe thead th {\n",
       "        text-align: right;\n",
       "    }\n",
       "</style>\n",
       "<table border=\"1\" class=\"dataframe\">\n",
       "  <thead>\n",
       "    <tr style=\"text-align: right;\">\n",
       "      <th></th>\n",
       "      <th>Open</th>\n",
       "      <th>High</th>\n",
       "      <th>Low</th>\n",
       "      <th>Close</th>\n",
       "      <th>Volume</th>\n",
       "    </tr>\n",
       "    <tr>\n",
       "      <th>time</th>\n",
       "      <th></th>\n",
       "      <th></th>\n",
       "      <th></th>\n",
       "      <th></th>\n",
       "      <th></th>\n",
       "    </tr>\n",
       "  </thead>\n",
       "  <tbody>\n",
       "    <tr>\n",
       "      <th>2019-08-27 00:00:00</th>\n",
       "      <td>1.221095</td>\n",
       "      <td>1.221100</td>\n",
       "      <td>1.221035</td>\n",
       "      <td>1.221080</td>\n",
       "      <td>3.627000e+07</td>\n",
       "    </tr>\n",
       "    <tr>\n",
       "      <th>2019-08-27 00:01:00</th>\n",
       "      <td>1.221090</td>\n",
       "      <td>1.221105</td>\n",
       "      <td>1.221075</td>\n",
       "      <td>1.221085</td>\n",
       "      <td>4.071500e+07</td>\n",
       "    </tr>\n",
       "    <tr>\n",
       "      <th>2019-08-27 00:02:00</th>\n",
       "      <td>1.221090</td>\n",
       "      <td>1.221105</td>\n",
       "      <td>1.221075</td>\n",
       "      <td>1.221095</td>\n",
       "      <td>4.669500e+07</td>\n",
       "    </tr>\n",
       "    <tr>\n",
       "      <th>2019-08-27 00:03:00</th>\n",
       "      <td>1.221095</td>\n",
       "      <td>1.221215</td>\n",
       "      <td>1.221080</td>\n",
       "      <td>1.221200</td>\n",
       "      <td>6.567500e+07</td>\n",
       "    </tr>\n",
       "    <tr>\n",
       "      <th>2019-08-27 00:04:00</th>\n",
       "      <td>1.221215</td>\n",
       "      <td>1.221310</td>\n",
       "      <td>1.221185</td>\n",
       "      <td>1.221300</td>\n",
       "      <td>6.968500e+07</td>\n",
       "    </tr>\n",
       "    <tr>\n",
       "      <th>...</th>\n",
       "      <td>...</td>\n",
       "      <td>...</td>\n",
       "      <td>...</td>\n",
       "      <td>...</td>\n",
       "      <td>...</td>\n",
       "    </tr>\n",
       "    <tr>\n",
       "      <th>2022-08-26 16:55:00</th>\n",
       "      <td>1.173970</td>\n",
       "      <td>1.174070</td>\n",
       "      <td>1.173775</td>\n",
       "      <td>1.174015</td>\n",
       "      <td>2.849700e+08</td>\n",
       "    </tr>\n",
       "    <tr>\n",
       "      <th>2022-08-26 16:56:00</th>\n",
       "      <td>1.174035</td>\n",
       "      <td>1.174145</td>\n",
       "      <td>1.173420</td>\n",
       "      <td>1.173920</td>\n",
       "      <td>5.481400e+08</td>\n",
       "    </tr>\n",
       "    <tr>\n",
       "      <th>2022-08-26 16:57:00</th>\n",
       "      <td>1.173925</td>\n",
       "      <td>1.173955</td>\n",
       "      <td>1.173820</td>\n",
       "      <td>1.173940</td>\n",
       "      <td>1.303600e+08</td>\n",
       "    </tr>\n",
       "    <tr>\n",
       "      <th>2022-08-26 16:58:00</th>\n",
       "      <td>1.173945</td>\n",
       "      <td>1.174000</td>\n",
       "      <td>1.173705</td>\n",
       "      <td>1.173965</td>\n",
       "      <td>2.401600e+08</td>\n",
       "    </tr>\n",
       "    <tr>\n",
       "      <th>2022-08-26 16:59:00</th>\n",
       "      <td>1.173955</td>\n",
       "      <td>1.174390</td>\n",
       "      <td>1.173640</td>\n",
       "      <td>1.174355</td>\n",
       "      <td>1.434400e+08</td>\n",
       "    </tr>\n",
       "  </tbody>\n",
       "</table>\n",
       "<p>1122468 rows × 5 columns</p>\n",
       "</div>"
      ],
      "text/plain": [
       "                         Open      High       Low     Close        Volume\n",
       "time                                                                     \n",
       "2019-08-27 00:00:00  1.221095  1.221100  1.221035  1.221080  3.627000e+07\n",
       "2019-08-27 00:01:00  1.221090  1.221105  1.221075  1.221085  4.071500e+07\n",
       "2019-08-27 00:02:00  1.221090  1.221105  1.221075  1.221095  4.669500e+07\n",
       "2019-08-27 00:03:00  1.221095  1.221215  1.221080  1.221200  6.567500e+07\n",
       "2019-08-27 00:04:00  1.221215  1.221310  1.221185  1.221300  6.968500e+07\n",
       "...                       ...       ...       ...       ...           ...\n",
       "2022-08-26 16:55:00  1.173970  1.174070  1.173775  1.174015  2.849700e+08\n",
       "2022-08-26 16:56:00  1.174035  1.174145  1.173420  1.173920  5.481400e+08\n",
       "2022-08-26 16:57:00  1.173925  1.173955  1.173820  1.173940  1.303600e+08\n",
       "2022-08-26 16:58:00  1.173945  1.174000  1.173705  1.173965  2.401600e+08\n",
       "2022-08-26 16:59:00  1.173955  1.174390  1.173640  1.174355  1.434400e+08\n",
       "\n",
       "[1122468 rows x 5 columns]"
      ]
     },
     "metadata": {},
     "output_type": "display_data"
    }
   ],
   "source": [
    "display(df)"
   ]
  },
  {
   "cell_type": "code",
   "execution_count": 7,
   "metadata": {},
   "outputs": [],
   "source": [
    "df.to_hdf(\"GU_OHLCV_3Y.h5\", key='df', mode='w')"
   ]
  }
 ],
 "metadata": {
  "kernelspec": {
   "display_name": "Python 3.10.4 ('vbt')",
   "language": "python",
   "name": "python3"
  },
  "language_info": {
   "codemirror_mode": {
    "name": "ipython",
    "version": 3
   },
   "file_extension": ".py",
   "mimetype": "text/x-python",
   "name": "python",
   "nbconvert_exporter": "python",
   "pygments_lexer": "ipython3",
   "version": "3.10.4"
  },
  "orig_nbformat": 4,
  "vscode": {
   "interpreter": {
    "hash": "553d3b352623cb609a2efe4df91242fdc89d5ebcee56d9279e2aa2c11b529c13"
   }
  }
 },
 "nbformat": 4,
 "nbformat_minor": 2
}
