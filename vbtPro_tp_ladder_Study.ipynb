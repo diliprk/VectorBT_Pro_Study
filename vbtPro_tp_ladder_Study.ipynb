{
 "cells": [
  {
   "cell_type": "code",
   "execution_count": 4,
   "id": "e493f40d",
   "metadata": {},
   "outputs": [],
   "source": [
    "import pandas as pd\n",
    "import numpy as np\n",
    "from numba import njit\n",
    "import vectorbtpro as vbt"
   ]
  },
  {
   "cell_type": "code",
   "execution_count": 5,
   "id": "e80dc94a",
   "metadata": {},
   "outputs": [
    {
     "data": {
      "application/vnd.jupyter.widget-view+json": {
       "model_id": "d125ad8eac4e4bb99014f674e96197a6",
       "version_major": 2,
       "version_minor": 0
      },
      "text/plain": [
       "  0%|          | 0/2 [00:00<?, ?it/s]"
      ]
     },
     "metadata": {},
     "output_type": "display_data"
    },
    {
     "data": {
      "application/vnd.jupyter.widget-view+json": {
       "model_id": "34692d4ec230479bb19bcda88a856455",
       "version_major": 2,
       "version_minor": 0
      },
      "text/plain": [
       "0it [00:00, ?it/s]"
      ]
     },
     "metadata": {},
     "output_type": "display_data"
    },
    {
     "data": {
      "application/vnd.jupyter.widget-view+json": {
       "model_id": "0fbc5b63cdba40b0a0fa243597906746",
       "version_major": 2,
       "version_minor": 0
      },
      "text/plain": [
       "0it [00:00, ?it/s]"
      ]
     },
     "metadata": {},
     "output_type": "display_data"
    }
   ],
   "source": [
    "data = vbt.BinanceData.fetch([\"BTCUSDT\", \"ETHUSDT\"])"
   ]
  },
  {
   "cell_type": "code",
   "execution_count": 6,
   "id": "9604ccda",
   "metadata": {},
   "outputs": [
    {
     "data": {
      "application/vnd.jupyter.widget-view+json": {
       "model_id": "903c0dc6d3df4cc99244a03f413ba726",
       "version_major": 2,
       "version_minor": 0
      },
      "text/plain": [
       "FigureWidget({\n",
       "    'data': [{'close': array([51552.6 , 55906.  , 55841.19, 57408.57, 54087.67, 48891.  , 49676…"
      ]
     },
     "metadata": {},
     "output_type": "display_data"
    }
   ],
   "source": [
    "sub_data = data.loc[\"2021-02-18\":\"2021-02-24\"]\n",
    "vbt.settings.set_theme(\"dark\")\n",
    "sub_data.plot(symbol=\"BTCUSDT\")"
   ]
  },
  {
   "cell_type": "code",
   "execution_count": 7,
   "id": "2c101a0e",
   "metadata": {},
   "outputs": [],
   "source": [
    "from collections import namedtuple\n",
    "\n",
    "Signals = namedtuple(\"Signals\", [  \n",
    "     \"entries\", \n",
    "     \"exits\"\n",
    " ])\n",
    "Orders = namedtuple(\"Orders\", [  \n",
    "     \"size\", \n",
    "     \"accumulate\"\n",
    " ])\n",
    "Ladders = namedtuple(\"Ladders\", [  \n",
    "     \"tp1\", \n",
    "     \"tp2\", \n",
    "     \"tp1_pct\", \n",
    "     \"tp2_pct\"\n",
    " ])\n",
    "\n",
    "ladder_info_dt = np.dtype([  \n",
    "     (\"init_idx\", np.int_),\n",
    "     (\"init_price\", np.float_),\n",
    "     (\"tp1\", np.float_),\n",
    "     (\"tp2\", np.float_),\n",
    "     (\"tp1_pct\", np.float_),\n",
    "     (\"tp2_pct\", np.float_)\n",
    " ], align=True)"
   ]
  },
  {
   "cell_type": "code",
   "execution_count": 8,
   "id": "fd1d7f26",
   "metadata": {},
   "outputs": [
    {
     "data": {
      "text/plain": [
       "__main__.Orders"
      ]
     },
     "execution_count": 8,
     "metadata": {},
     "output_type": "execute_result"
    }
   ],
   "source": [
    "Orders"
   ]
  },
  {
   "cell_type": "code",
   "execution_count": 9,
   "id": "e0cee9c7",
   "metadata": {},
   "outputs": [
    {
     "data": {
      "text/plain": [
       "_tuplegetter(0, 'Alias for field number 0')"
      ]
     },
     "execution_count": 9,
     "metadata": {},
     "output_type": "execute_result"
    }
   ],
   "source": [
    "Orders.size"
   ]
  },
  {
   "cell_type": "code",
   "execution_count": 10,
   "id": "0e633c26",
   "metadata": {},
   "outputs": [
    {
     "data": {
      "text/plain": [
       "type"
      ]
     },
     "execution_count": 10,
     "metadata": {},
     "output_type": "execute_result"
    }
   ],
   "source": [
    "type(Orders)"
   ]
  },
  {
   "cell_type": "code",
   "execution_count": 11,
   "id": "a937d3d0",
   "metadata": {},
   "outputs": [],
   "source": [
    "x = Orders(2,4)"
   ]
  },
  {
   "cell_type": "code",
   "execution_count": 12,
   "id": "f050e94d",
   "metadata": {},
   "outputs": [
    {
     "data": {
      "text/plain": [
       "__main__.Orders"
      ]
     },
     "execution_count": 12,
     "metadata": {},
     "output_type": "execute_result"
    }
   ],
   "source": [
    "type(x)"
   ]
  },
  {
   "cell_type": "code",
   "execution_count": 13,
   "id": "c09a3e01",
   "metadata": {},
   "outputs": [],
   "source": [
    "@njit(debug = True)\n",
    "def signal_func_nb(c, signals, orders, ladders, last_ladder_info):  \n",
    "     is_entry = vbt.pf_nb.select_nb(c, signals.entries)  \n",
    "     is_exit = vbt.pf_nb.select_nb(c, signals.exits)\n",
    "     position_now = c.last_position[c.col]\n",
    "     position_type = \"BUY\" if position_now > 0 else ( \"NoSignal\" if position_now == 0  else \"Sell\")\n",
    "     print(f\"Entry: {str(is_entry).upper()} | Exit: {str(is_exit).upper()}\")\n",
    "     print(f\"C.Col : {c.col} | Entry: {str(is_entry).upper()} | Exit: {str(is_exit).upper()} | Position: {position_type}\")\n",
    "\n",
    "    #  if position_now == 0 and is_entry:\n",
    "        #  orders.size[c.col] = np.inf  \n",
    "        #  orders.accumulate[c.col] = False\n",
    "        #  return True, False, False, False\n",
    "     # if position_now > 0 and is_exit:\n",
    "     #     orders.size[c.col] = np.inf\n",
    "     #     orders.accumulate[c.col] = False\n",
    "     #     return False, True, False, False\n",
    "     # if position_now == 0:\n",
    "     #     return False, False, False, False\n",
    "\n",
    "    #  print(f\"C.Col : {c.col} | Entry: {str(is_entry).upper()} | Exit: {str(is_exit).upper()} | Position: {position_type} | Order.Size: {o_size}  | Order.Accumulate: {o_acc}\")\n",
    "     \n",
    "    #  tp_info = c.last_tp_info[c.col]\n",
    "    #  ladder_info = last_ladder_info[c.col]  \n",
    "    #  last_order = c.order_records[c.order_counts[c.col] - 1, c.col]  \n",
    "    #  if not vbt.pf_nb.is_stop_active_nb(tp_info):  \n",
    "    #      if last_order.stop_type == -1:  \n",
    "    #          ladder_info.init_idx = tp_info.init_idx  \n",
    "    #          ladder_info.init_price = tp_info.init_price\n",
    "    #          ladder_info.tp1 = vbt.pf_nb.select_nb(c, ladders.tp1)\n",
    "    #          ladder_info.tp2 = vbt.pf_nb.select_nb(c, ladders.tp2)\n",
    "    #          ladder_info.tp1_pct = vbt.pf_nb.select_nb(c, ladders.tp1_pct)\n",
    "    #          ladder_info.tp2_pct = vbt.pf_nb.select_nb(c, ladders.tp2_pct)\n",
    "    #          tp_info.stop = ladder_info.tp1  \n",
    "    #          tp_info.exit_type = vbt.pf_enums.StopExitType.CloseReduce\n",
    "    #          orders.size[c.col] = ladder_info.tp1_pct * position_now\n",
    "    #          orders.accumulate[c.col] = True\n",
    "    #      else:  \n",
    "    #          vbt.pf_nb.set_tp_info_nb(  \n",
    "    #              tp_info, \n",
    "    #              ladder_info.init_idx,  \n",
    "    #              init_price=ladder_info.init_price,\n",
    "    #              stop=ladder_info.tp2,\n",
    "    #              exit_type=vbt.pf_enums.StopExitType.CloseReduce\n",
    "    #          )\n",
    "    #          orders.size[c.col] = ladder_info.tp2_pct * position_now  \n",
    "    #          orders.accumulate[c.col] = True\n",
    "     return False, False, False, False"
   ]
  },
  {
   "cell_type": "code",
   "execution_count": 14,
   "id": "87aaae78",
   "metadata": {},
   "outputs": [
    {
     "name": "stderr",
     "output_type": "stream",
     "text": [
      "/opt/miniconda3/envs/vbt/lib/python3.10/site-packages/vectorbtpro/portfolio/nb/from_signals.py:2678: NumbaDebugInfoWarning:\n",
      "\n",
      "Could not find source for function: <function signal_func_nb at 0x167859510>. Debug line information may be inaccurate.\n",
      "\n"
     ]
    },
    {
     "name": "stdout",
     "output_type": "stream",
     "text": [
      "Entry: TRUE | Exit: FALSE\n",
      "C.Col : 0 | Entry: TRUE | Exit: FALSE | Position: NoSignal\n",
      "Entry: FALSE | Exit: FALSE\n",
      "C.Col : 0 | Entry: FALSE | Exit: FALSE | Position: NoSignal\n",
      "Entry: FALSE | Exit: FALSE\n",
      "C.Col : 0 | Entry: FALSE | Exit: FALSE | Position: NoSignal\n",
      "Entry: FALSE | Exit: FALSE\n",
      "C.Col : 0 | Entry: FALSE | Exit: FALSE | Position: NoSignal\n",
      "Entry: FALSE | Exit: FALSE\n",
      "C.Col : 0 | Entry: FALSE | Exit: FALSE | Position: NoSignal\n",
      "Entry: FALSE | Exit: FALSE\n",
      "C.Col : 0 | Entry: FALSE | Exit: FALSE | Position: NoSignal\n",
      "Entry: FALSE | Exit: FALSE\n",
      "C.Col : 0 | Entry: FALSE | Exit: FALSE | Position: NoSignal\n",
      "Entry: TRUE | Exit: FALSE\n",
      "C.Col : 1 | Entry: TRUE | Exit: FALSE | Position: NoSignal\n",
      "Entry: FALSE | Exit: FALSE\n",
      "C.Col : 1 | Entry: FALSE | Exit: FALSE | Position: NoSignal\n",
      "Entry: FALSE | Exit: FALSE\n",
      "C.Col : 1 | Entry: FALSE | Exit: FALSE | Position: NoSignal\n",
      "Entry: FALSE | Exit: FALSE\n",
      "C.Col : 1 | Entry: FALSE | Exit: FALSE | Position: NoSignal\n",
      "Entry: FALSE | Exit: FALSE\n",
      "C.Col : 1 | Entry: FALSE | Exit: FALSE | Position: NoSignal\n",
      "Entry: FALSE | Exit: FALSE\n",
      "C.Col : 1 | Entry: FALSE | Exit: FALSE | Position: NoSignal\n",
      "Entry: FALSE | Exit: FALSE\n",
      "C.Col : 1 | Entry: FALSE | Exit: FALSE | Position: NoSignal\n"
     ]
    }
   ],
   "source": [
    "pf = vbt.Portfolio.from_signals(\n",
    "     sub_data,\n",
    "     signal_func_nb = signal_func_nb,\n",
    "     signal_args=(  \n",
    "         vbt.RepEval(\n",
    "             \"Signals(entries, exits)\",\n",
    "             context=dict(Signals=Signals)  \n",
    "         ),\n",
    "         vbt.RepEval(\n",
    "             \"Orders(size, accumulate)\",\n",
    "             context=dict(Orders=Orders)\n",
    "         ),\n",
    "         vbt.RepEval(\n",
    "             \"Ladders(tp1, tp2, tp1_pct, tp2_pct)\",\n",
    "             context=dict(Ladders=Ladders)\n",
    "         ),\n",
    "         vbt.RepEval(\n",
    "             \"np.empty(wrapper.shape_2d[1], dtype=ladder_info_dt)\", \n",
    "             context=dict(ladder_info_dt=ladder_info_dt)\n",
    "         )\n",
    "     ),\n",
    "     size=vbt.RepEval(\"np.full(wrapper.shape_2d[1], np.inf)\"),\n",
    "     accumulate=vbt.RepEval(\"np.full(wrapper.shape_2d[1], False)\"),\n",
    "     broadcast_named_args=dict(\n",
    "         entries=pd.Series([bool(1.), bool(0.),bool(0.), bool(0.), bool(0.), bool(0.), bool(0.)]), \n",
    "         exits=  pd.Series([bool(0.), bool(0.), bool(0.), bool(0.), bool(0.), bool(0.), bool(0.)]),\n",
    "         tp1=0.05,\n",
    "         tp2=0.1,\n",
    "         tp1_pct=0.5,\n",
    "         tp2_pct=1.0\n",
    "     )\n",
    " )\n"
   ]
  },
  {
   "cell_type": "code",
   "execution_count": 15,
   "id": "bb3340e0",
   "metadata": {},
   "outputs": [
    {
     "data": {
      "text/html": [
       "<div>\n",
       "<style scoped>\n",
       "    .dataframe tbody tr th:only-of-type {\n",
       "        vertical-align: middle;\n",
       "    }\n",
       "\n",
       "    .dataframe tbody tr th {\n",
       "        vertical-align: top;\n",
       "    }\n",
       "\n",
       "    .dataframe thead th {\n",
       "        text-align: right;\n",
       "    }\n",
       "</style>\n",
       "<table border=\"1\" class=\"dataframe\">\n",
       "  <thead>\n",
       "    <tr style=\"text-align: right;\">\n",
       "      <th>symbol</th>\n",
       "      <th>BTCUSDT</th>\n",
       "      <th>ETHUSDT</th>\n",
       "    </tr>\n",
       "    <tr>\n",
       "      <th>Open time</th>\n",
       "      <th></th>\n",
       "      <th></th>\n",
       "    </tr>\n",
       "  </thead>\n",
       "  <tbody>\n",
       "    <tr>\n",
       "      <th>2021-02-18 00:00:00+00:00</th>\n",
       "      <td>0.0</td>\n",
       "      <td>0.0</td>\n",
       "    </tr>\n",
       "    <tr>\n",
       "      <th>2021-02-19 00:00:00+00:00</th>\n",
       "      <td>0.0</td>\n",
       "      <td>0.0</td>\n",
       "    </tr>\n",
       "    <tr>\n",
       "      <th>2021-02-20 00:00:00+00:00</th>\n",
       "      <td>0.0</td>\n",
       "      <td>0.0</td>\n",
       "    </tr>\n",
       "    <tr>\n",
       "      <th>2021-02-21 00:00:00+00:00</th>\n",
       "      <td>0.0</td>\n",
       "      <td>0.0</td>\n",
       "    </tr>\n",
       "    <tr>\n",
       "      <th>2021-02-22 00:00:00+00:00</th>\n",
       "      <td>0.0</td>\n",
       "      <td>0.0</td>\n",
       "    </tr>\n",
       "    <tr>\n",
       "      <th>2021-02-23 00:00:00+00:00</th>\n",
       "      <td>0.0</td>\n",
       "      <td>0.0</td>\n",
       "    </tr>\n",
       "    <tr>\n",
       "      <th>2021-02-24 00:00:00+00:00</th>\n",
       "      <td>0.0</td>\n",
       "      <td>0.0</td>\n",
       "    </tr>\n",
       "  </tbody>\n",
       "</table>\n",
       "</div>"
      ],
      "text/plain": [
       "symbol                     BTCUSDT  ETHUSDT\n",
       "Open time                                  \n",
       "2021-02-18 00:00:00+00:00      0.0      0.0\n",
       "2021-02-19 00:00:00+00:00      0.0      0.0\n",
       "2021-02-20 00:00:00+00:00      0.0      0.0\n",
       "2021-02-21 00:00:00+00:00      0.0      0.0\n",
       "2021-02-22 00:00:00+00:00      0.0      0.0\n",
       "2021-02-23 00:00:00+00:00      0.0      0.0\n",
       "2021-02-24 00:00:00+00:00      0.0      0.0"
      ]
     },
     "execution_count": 15,
     "metadata": {},
     "output_type": "execute_result"
    }
   ],
   "source": [
    "pf.asset_flow"
   ]
  }
 ],
 "metadata": {
  "kernelspec": {
   "display_name": "Python 3.10.4 ('vbt')",
   "language": "python",
   "name": "python3"
  },
  "language_info": {
   "codemirror_mode": {
    "name": "ipython",
    "version": 3
   },
   "file_extension": ".py",
   "mimetype": "text/x-python",
   "name": "python",
   "nbconvert_exporter": "python",
   "pygments_lexer": "ipython3",
   "version": "3.10.4"
  },
  "vscode": {
   "interpreter": {
    "hash": "553d3b352623cb609a2efe4df91242fdc89d5ebcee56d9279e2aa2c11b529c13"
   }
  }
 },
 "nbformat": 4,
 "nbformat_minor": 5
}
