{
 "cells": [
  {
   "cell_type": "code",
   "execution_count": 37,
   "id": "7237df73",
   "metadata": {},
   "outputs": [],
   "source": [
    "import pandas as pd\n",
    "import numpy as np\n",
    "from numba import njit\n",
    "import vectorbtpro as vbt"
   ]
  },
  {
   "cell_type": "code",
   "execution_count": 38,
   "id": "5b36858f",
   "metadata": {},
   "outputs": [
    {
     "data": {
      "application/vnd.jupyter.widget-view+json": {
       "model_id": "cb1337ad9eaa44da816274fa1fd0fcdc",
       "version_major": 2,
       "version_minor": 0
      },
      "text/plain": [
       "  0%|          | 0/2 [00:00<?, ?it/s]"
      ]
     },
     "metadata": {},
     "output_type": "display_data"
    },
    {
     "data": {
      "application/vnd.jupyter.widget-view+json": {
       "model_id": "c536f8511b354c3d9ae5bb9c6ab0d26a",
       "version_major": 2,
       "version_minor": 0
      },
      "text/plain": [
       "0it [00:00, ?it/s]"
      ]
     },
     "metadata": {},
     "output_type": "display_data"
    },
    {
     "data": {
      "application/vnd.jupyter.widget-view+json": {
       "model_id": "1280eeec24bf48909285138ed98329d5",
       "version_major": 2,
       "version_minor": 0
      },
      "text/plain": [
       "0it [00:00, ?it/s]"
      ]
     },
     "metadata": {},
     "output_type": "display_data"
    }
   ],
   "source": [
    "data = vbt.BinanceData.fetch([\"BTCUSDT\", \"ETHUSDT\"])"
   ]
  },
  {
   "cell_type": "code",
   "execution_count": 39,
   "id": "5ec68956",
   "metadata": {},
   "outputs": [
    {
     "data": {
      "application/vnd.jupyter.widget-view+json": {
       "model_id": "84ca46bfd660498f91b52b9d4090a42b",
       "version_major": 2,
       "version_minor": 0
      },
      "text/plain": [
       "FigureWidget({\n",
       "    'data': [{'close': array([51552.6 , 55906.  , 55841.19, 57408.57, 54087.67, 48891.  , 49676…"
      ]
     },
     "metadata": {},
     "output_type": "display_data"
    }
   ],
   "source": [
    "sub_data = data.loc[\"2021-02-18\":\"2021-02-24\"]\n",
    "vbt.settings.set_theme(\"dark\")\n",
    "sub_data.plot(symbol=\"BTCUSDT\")"
   ]
  },
  {
   "cell_type": "markdown",
   "id": "4608bb60",
   "metadata": {},
   "source": [
    "This is data pertaining to 18th Feb 2021 to 24 Feb 2021"
   ]
  },
  {
   "cell_type": "code",
   "execution_count": 40,
   "id": "e98d8f7a",
   "metadata": {},
   "outputs": [],
   "source": [
    "X = True\n",
    "O = False"
   ]
  },
  {
   "cell_type": "code",
   "execution_count": 41,
   "id": "31296d1f",
   "metadata": {},
   "outputs": [],
   "source": [
    "entries = pd.Series([X, O, O, O, O, O, O])\n",
    "exits   = pd.Series([O, O, O, X, O, O, O])"
   ]
  },
  {
   "cell_type": "code",
   "execution_count": 42,
   "id": "b281278b",
   "metadata": {},
   "outputs": [],
   "source": [
    "pf = vbt.Portfolio.from_signals(\n",
    "     sub_data,\n",
    "     entries=entries,  \n",
    "     exits=exits\n",
    " )"
   ]
  },
  {
   "cell_type": "code",
   "execution_count": 43,
   "id": "7c73dc97",
   "metadata": {},
   "outputs": [
    {
     "data": {
      "text/html": [
       "<div>\n",
       "<style scoped>\n",
       "    .dataframe tbody tr th:only-of-type {\n",
       "        vertical-align: middle;\n",
       "    }\n",
       "\n",
       "    .dataframe tbody tr th {\n",
       "        vertical-align: top;\n",
       "    }\n",
       "\n",
       "    .dataframe thead th {\n",
       "        text-align: right;\n",
       "    }\n",
       "</style>\n",
       "<table border=\"1\" class=\"dataframe\">\n",
       "  <thead>\n",
       "    <tr style=\"text-align: right;\">\n",
       "      <th></th>\n",
       "      <th>Order Id</th>\n",
       "      <th>Column</th>\n",
       "      <th>Signal Index</th>\n",
       "      <th>Creation Index</th>\n",
       "      <th>Fill Index</th>\n",
       "      <th>Size</th>\n",
       "      <th>Price</th>\n",
       "      <th>Fees</th>\n",
       "      <th>Side</th>\n",
       "      <th>Type</th>\n",
       "      <th>Stop Type</th>\n",
       "    </tr>\n",
       "  </thead>\n",
       "  <tbody>\n",
       "    <tr>\n",
       "      <th>0</th>\n",
       "      <td>0</td>\n",
       "      <td>BTCUSDT</td>\n",
       "      <td>2021-02-18 00:00:00+00:00</td>\n",
       "      <td>2021-02-18 00:00:00+00:00</td>\n",
       "      <td>2021-02-18 00:00:00+00:00</td>\n",
       "      <td>0.001940</td>\n",
       "      <td>51552.60</td>\n",
       "      <td>0.0</td>\n",
       "      <td>Buy</td>\n",
       "      <td>Market</td>\n",
       "      <td>None</td>\n",
       "    </tr>\n",
       "    <tr>\n",
       "      <th>1</th>\n",
       "      <td>1</td>\n",
       "      <td>BTCUSDT</td>\n",
       "      <td>2021-02-21 00:00:00+00:00</td>\n",
       "      <td>2021-02-21 00:00:00+00:00</td>\n",
       "      <td>2021-02-21 00:00:00+00:00</td>\n",
       "      <td>0.001940</td>\n",
       "      <td>57408.57</td>\n",
       "      <td>0.0</td>\n",
       "      <td>Sell</td>\n",
       "      <td>Market</td>\n",
       "      <td>None</td>\n",
       "    </tr>\n",
       "    <tr>\n",
       "      <th>2</th>\n",
       "      <td>0</td>\n",
       "      <td>ETHUSDT</td>\n",
       "      <td>2021-02-18 00:00:00+00:00</td>\n",
       "      <td>2021-02-18 00:00:00+00:00</td>\n",
       "      <td>2021-02-18 00:00:00+00:00</td>\n",
       "      <td>0.051557</td>\n",
       "      <td>1939.61</td>\n",
       "      <td>0.0</td>\n",
       "      <td>Buy</td>\n",
       "      <td>Market</td>\n",
       "      <td>None</td>\n",
       "    </tr>\n",
       "    <tr>\n",
       "      <th>3</th>\n",
       "      <td>1</td>\n",
       "      <td>ETHUSDT</td>\n",
       "      <td>2021-02-21 00:00:00+00:00</td>\n",
       "      <td>2021-02-21 00:00:00+00:00</td>\n",
       "      <td>2021-02-21 00:00:00+00:00</td>\n",
       "      <td>0.051557</td>\n",
       "      <td>1933.53</td>\n",
       "      <td>0.0</td>\n",
       "      <td>Sell</td>\n",
       "      <td>Market</td>\n",
       "      <td>None</td>\n",
       "    </tr>\n",
       "  </tbody>\n",
       "</table>\n",
       "</div>"
      ],
      "text/plain": [
       "   Order Id   Column              Signal Index            Creation Index  \\\n",
       "0         0  BTCUSDT 2021-02-18 00:00:00+00:00 2021-02-18 00:00:00+00:00   \n",
       "1         1  BTCUSDT 2021-02-21 00:00:00+00:00 2021-02-21 00:00:00+00:00   \n",
       "2         0  ETHUSDT 2021-02-18 00:00:00+00:00 2021-02-18 00:00:00+00:00   \n",
       "3         1  ETHUSDT 2021-02-21 00:00:00+00:00 2021-02-21 00:00:00+00:00   \n",
       "\n",
       "                 Fill Index      Size     Price  Fees  Side    Type Stop Type  \n",
       "0 2021-02-18 00:00:00+00:00  0.001940  51552.60   0.0   Buy  Market      None  \n",
       "1 2021-02-21 00:00:00+00:00  0.001940  57408.57   0.0  Sell  Market      None  \n",
       "2 2021-02-18 00:00:00+00:00  0.051557   1939.61   0.0   Buy  Market      None  \n",
       "3 2021-02-21 00:00:00+00:00  0.051557   1933.53   0.0  Sell  Market      None  "
      ]
     },
     "execution_count": 43,
     "metadata": {},
     "output_type": "execute_result"
    }
   ],
   "source": [
    "pf.orders.records_readable"
   ]
  },
  {
   "cell_type": "code",
   "execution_count": 44,
   "id": "c1bc1cc1",
   "metadata": {},
   "outputs": [
    {
     "data": {
      "text/html": [
       "<div>\n",
       "<style scoped>\n",
       "    .dataframe tbody tr th:only-of-type {\n",
       "        vertical-align: middle;\n",
       "    }\n",
       "\n",
       "    .dataframe tbody tr th {\n",
       "        vertical-align: top;\n",
       "    }\n",
       "\n",
       "    .dataframe thead th {\n",
       "        text-align: right;\n",
       "    }\n",
       "</style>\n",
       "<table border=\"1\" class=\"dataframe\">\n",
       "  <thead>\n",
       "    <tr style=\"text-align: right;\">\n",
       "      <th>symbol</th>\n",
       "      <th>BTCUSDT</th>\n",
       "      <th>ETHUSDT</th>\n",
       "    </tr>\n",
       "    <tr>\n",
       "      <th>Open time</th>\n",
       "      <th></th>\n",
       "      <th></th>\n",
       "    </tr>\n",
       "  </thead>\n",
       "  <tbody>\n",
       "    <tr>\n",
       "      <th>2021-02-18 00:00:00+00:00</th>\n",
       "      <td>0.00194</td>\n",
       "      <td>0.051557</td>\n",
       "    </tr>\n",
       "    <tr>\n",
       "      <th>2021-02-19 00:00:00+00:00</th>\n",
       "      <td>0.00194</td>\n",
       "      <td>0.051557</td>\n",
       "    </tr>\n",
       "    <tr>\n",
       "      <th>2021-02-20 00:00:00+00:00</th>\n",
       "      <td>0.00194</td>\n",
       "      <td>0.051557</td>\n",
       "    </tr>\n",
       "    <tr>\n",
       "      <th>2021-02-21 00:00:00+00:00</th>\n",
       "      <td>0.00000</td>\n",
       "      <td>0.000000</td>\n",
       "    </tr>\n",
       "    <tr>\n",
       "      <th>2021-02-22 00:00:00+00:00</th>\n",
       "      <td>0.00000</td>\n",
       "      <td>0.000000</td>\n",
       "    </tr>\n",
       "    <tr>\n",
       "      <th>2021-02-23 00:00:00+00:00</th>\n",
       "      <td>0.00000</td>\n",
       "      <td>0.000000</td>\n",
       "    </tr>\n",
       "    <tr>\n",
       "      <th>2021-02-24 00:00:00+00:00</th>\n",
       "      <td>0.00000</td>\n",
       "      <td>0.000000</td>\n",
       "    </tr>\n",
       "  </tbody>\n",
       "</table>\n",
       "</div>"
      ],
      "text/plain": [
       "symbol                     BTCUSDT   ETHUSDT\n",
       "Open time                                   \n",
       "2021-02-18 00:00:00+00:00  0.00194  0.051557\n",
       "2021-02-19 00:00:00+00:00  0.00194  0.051557\n",
       "2021-02-20 00:00:00+00:00  0.00194  0.051557\n",
       "2021-02-21 00:00:00+00:00  0.00000  0.000000\n",
       "2021-02-22 00:00:00+00:00  0.00000  0.000000\n",
       "2021-02-23 00:00:00+00:00  0.00000  0.000000\n",
       "2021-02-24 00:00:00+00:00  0.00000  0.000000"
      ]
     },
     "execution_count": 44,
     "metadata": {},
     "output_type": "execute_result"
    }
   ],
   "source": [
    "pf.assets"
   ]
  },
  {
   "cell_type": "code",
   "execution_count": 50,
   "id": "81196946",
   "metadata": {},
   "outputs": [],
   "source": [
    "@njit(debug=True)\n",
    "def signal_func_nb(c, entries, exits, short_entries, short_exits, size = None):\n",
    "     long_entry = entries[c.i]\n",
    "     long_exit = exits[c.i]\n",
    "     short_entry = short_entries[c.i]\n",
    "     short_exit = short_exits[c.i]\n",
    "     print(f\"Current Row: {c.i} | Current Column: {c.col}\")\n",
    "     print(f\"LongEntry: {str(long_entry).upper()} | LongExit: {str(long_exit).upper()} | \\\n",
    "             ShortEntry: {str(short_entry).upper()} | ShortExit: {str(short_exit).upper()}\\\n",
    "             Size : {c.col} \")\n",
    "     return long_entry, long_exit, short_entry, short_exit"
   ]
  },
  {
   "cell_type": "code",
   "execution_count": 51,
   "id": "44622cca",
   "metadata": {},
   "outputs": [
    {
     "name": "stderr",
     "output_type": "stream",
     "text": [
      "/opt/miniconda3/envs/vbt/lib/python3.10/site-packages/vectorbtpro/portfolio/nb/from_signals.py:2678: NumbaDebugInfoWarning:\n",
      "\n",
      "Could not find source for function: <function signal_func_nb at 0x29ed053f0>. Debug line information may be inaccurate.\n",
      "\n"
     ]
    },
    {
     "name": "stdout",
     "output_type": "stream",
     "text": [
      "Current Row: 0 | Current Column: 0\n",
      "LongEntry: TRUE | LongExit: FALSE |              ShortEntry: FALSE | ShortExit: FALSE             Size : 0 \n",
      "Current Row: 1 | Current Column: 0\n",
      "LongEntry: FALSE | LongExit: FALSE |              ShortEntry: FALSE | ShortExit: FALSE             Size : 0 \n",
      "Current Row: 2 | Current Column: 0\n",
      "LongEntry: FALSE | LongExit: FALSE |              ShortEntry: FALSE | ShortExit: FALSE             Size : 0 \n",
      "Current Row: 3 | Current Column: 0\n",
      "LongEntry: FALSE | LongExit: TRUE |              ShortEntry: FALSE | ShortExit: FALSE             Size : 0 \n",
      "Current Row: 4 | Current Column: 0\n",
      "LongEntry: FALSE | LongExit: FALSE |              ShortEntry: TRUE | ShortExit: FALSE             Size : 0 \n",
      "Current Row: 5 | Current Column: 0\n",
      "LongEntry: FALSE | LongExit: FALSE |              ShortEntry: FALSE | ShortExit: FALSE             Size : 0 \n",
      "Current Row: 6 | Current Column: 0\n",
      "LongEntry: FALSE | LongExit: FALSE |              ShortEntry: FALSE | ShortExit: TRUE             Size : 0 \n",
      "CPU times: user 12.6 s, sys: 196 ms, total: 12.8 s\n",
      "Wall time: 12.8 s\n"
     ]
    }
   ],
   "source": [
    "%%time\n",
    "pf = vbt.Portfolio.from_signals(\n",
    "     sub_data.select(\"BTCUSDT\"),\n",
    "     signal_func_nb=signal_func_nb,\n",
    "     signal_args=(\n",
    "         pd.Series([X, O, O, O, O, O, O]).values,\n",
    "         pd.Series([O, X, O, X, O, O, O]).values,\n",
    "         pd.Series([O, O, O, O, X, O, O]).values,\n",
    "         pd.Series([O, O, O, O, O, O, X]).values\n",
    "     )\n",
    " )"
   ]
  },
  {
   "cell_type": "markdown",
   "id": "58d8ea32",
   "metadata": {},
   "source": [
    "Using `Select Nb`"
   ]
  },
  {
   "cell_type": "code",
   "execution_count": 52,
   "id": "183ee1c5",
   "metadata": {},
   "outputs": [],
   "source": [
    "@njit\n",
    "def signal_func_nb(c, entries, exits, short_entries, short_exits):\n",
    "     long_entry = vbt.pf_nb.select_nb(c, entries)\n",
    "     long_exit = vbt.pf_nb.select_nb(c, exits)\n",
    "     short_entry = vbt.pf_nb.select_nb(c, short_entries)\n",
    "     short_exit = vbt.pf_nb.select_nb(c, short_exits)\n",
    "     print(f\"Current Row: {c.i} | Current Column: {c.col}\")\n",
    "     print(f\"LongEntry: {str(long_entry).upper()} | LongExit: {str(long_exit).upper()} | ShortEntry: {str(short_entry).upper()} | ShortExit: {str(short_exit).upper()}\")\n",
    "     return long_entry, long_exit, short_entry, short_exit"
   ]
  },
  {
   "cell_type": "code",
   "execution_count": 53,
   "id": "4968cd71",
   "metadata": {},
   "outputs": [
    {
     "name": "stdout",
     "output_type": "stream",
     "text": [
      "Current Row: 0 | Current Column: 0\n",
      "LongEntry: TRUE | LongExit: FALSE | ShortEntry: FALSE | ShortExit: FALSE\n",
      "Current Row: 1 | Current Column: 0\n",
      "LongEntry: FALSE | LongExit: FALSE | ShortEntry: FALSE | ShortExit: FALSE\n",
      "Current Row: 2 | Current Column: 0\n",
      "LongEntry: FALSE | LongExit: FALSE | ShortEntry: FALSE | ShortExit: FALSE\n",
      "Current Row: 3 | Current Column: 0\n",
      "LongEntry: FALSE | LongExit: TRUE | ShortEntry: FALSE | ShortExit: FALSE\n",
      "Current Row: 4 | Current Column: 0\n",
      "LongEntry: FALSE | LongExit: FALSE | ShortEntry: TRUE | ShortExit: FALSE\n",
      "Current Row: 5 | Current Column: 0\n",
      "LongEntry: FALSE | LongExit: FALSE | ShortEntry: FALSE | ShortExit: FALSE\n",
      "Current Row: 6 | Current Column: 0\n",
      "LongEntry: FALSE | LongExit: FALSE | ShortEntry: FALSE | ShortExit: TRUE\n",
      "CPU times: user 13.1 s, sys: 204 ms, total: 13.3 s\n",
      "Wall time: 13.3 s\n"
     ]
    }
   ],
   "source": [
    "%%time\n",
    "pf = vbt.Portfolio.from_signals(\n",
    "     sub_data.select(\"BTCUSDT\"),\n",
    "     signal_func_nb=signal_func_nb,\n",
    "     signal_args=(\n",
    "         pd.Series([X, O, O, O, O, O, O]).values,\n",
    "         pd.Series([O, O, O, X, O, O, O]).values,\n",
    "         pd.Series([O, O, O, O, X, O, O]).values,\n",
    "         pd.Series([O, O, O, O, O, O, X]).values,\n",
    "         pd.Series([1.0, -0.5, 0.0, 0.5, 1.0, 0.0, 1.0 ]).values,\n",
    "     )\n",
    " )"
   ]
  }
 ],
 "metadata": {
  "kernelspec": {
   "display_name": "Python 3.10.4 ('vbt')",
   "language": "python",
   "name": "python3"
  },
  "language_info": {
   "codemirror_mode": {
    "name": "ipython",
    "version": 3
   },
   "file_extension": ".py",
   "mimetype": "text/x-python",
   "name": "python",
   "nbconvert_exporter": "python",
   "pygments_lexer": "ipython3",
   "version": "3.10.4"
  },
  "vscode": {
   "interpreter": {
    "hash": "553d3b352623cb609a2efe4df91242fdc89d5ebcee56d9279e2aa2c11b529c13"
   }
  }
 },
 "nbformat": 4,
 "nbformat_minor": 5
}
