{
 "cells": [
  {
   "cell_type": "code",
   "execution_count": 204,
   "metadata": {},
   "outputs": [],
   "source": [
    "import numpy as np\n",
    "import pandas as pd\n",
    "from numba import njit\n",
    "import vectorbtpro as vbt\n",
    "import talib as talib\n",
    "from typing import List\n",
    "from matplotlib import pyplot as plt"
   ]
  },
  {
   "cell_type": "code",
   "execution_count": 205,
   "metadata": {},
   "outputs": [
    {
     "data": {
      "text/plain": [
       "DatetimeIndex(['2019-08-27 00:00:00+00:00', '2019-08-27 00:01:00+00:00',\n",
       "               '2019-08-27 00:02:00+00:00', '2019-08-27 00:03:00+00:00',\n",
       "               '2019-08-27 00:04:00+00:00', '2019-08-27 00:05:00+00:00',\n",
       "               '2019-08-27 00:06:00+00:00', '2019-08-27 00:07:00+00:00',\n",
       "               '2019-08-27 00:08:00+00:00', '2019-08-27 00:09:00+00:00',\n",
       "               ...\n",
       "               '2022-08-26 16:50:00+00:00', '2022-08-26 16:51:00+00:00',\n",
       "               '2022-08-26 16:52:00+00:00', '2022-08-26 16:53:00+00:00',\n",
       "               '2022-08-26 16:54:00+00:00', '2022-08-26 16:55:00+00:00',\n",
       "               '2022-08-26 16:56:00+00:00', '2022-08-26 16:57:00+00:00',\n",
       "               '2022-08-26 16:58:00+00:00', '2022-08-26 16:59:00+00:00'],\n",
       "              dtype='datetime64[ns, UTC]', name='time', length=1122468, freq=None)"
      ]
     },
     "execution_count": 205,
     "metadata": {},
     "output_type": "execute_result"
    }
   ],
   "source": [
    "## Load m1 data\n",
    "m1_data = vbt.HDFData.fetch(\"GU_OHLCV_3Y.h5\")\n",
    "m1_data.wrapper.index #pandas doesnt recognise the frequency because of missing timestamps"
   ]
  },
  {
   "cell_type": "markdown",
   "metadata": {},
   "source": [
    "Downsampling `1 minute` data to Higher Time Frames"
   ]
  },
  {
   "cell_type": "code",
   "execution_count": 206,
   "metadata": {},
   "outputs": [],
   "source": [
    "m15_data = m1_data.resample('15T') #1 minute to 15 mins\n",
    "m30_data = m1_data.resample('30T') #1 minute to 30 mins\n",
    "h1_data = m1_data.resample(\"1h\") #1 minute to 1hour\n",
    "h4_data = m1_data.resample(\"4h\") #1 minute to  4 hour\n",
    "d1_data = m1_data.resample(\"1d\") #1 minute to daily"
   ]
  },
  {
   "cell_type": "markdown",
   "metadata": {},
   "source": [
    "The missing frequency has been checked for ` freq = '4H'` and `freq = 'D' `  "
   ]
  },
  {
   "cell_type": "code",
   "execution_count": 207,
   "metadata": {},
   "outputs": [
    {
     "data": {
      "text/plain": [
       "<vectorbtpro.data.custom.HDFData at 0x2b11afbb0>"
      ]
     },
     "execution_count": 207,
     "metadata": {},
     "output_type": "execute_result"
    }
   ],
   "source": [
    "h4_data"
   ]
  },
  {
   "cell_type": "code",
   "execution_count": 208,
   "metadata": {},
   "outputs": [
    {
     "data": {
      "text/plain": [
       "DatetimeIndex(['2019-08-27 00:00:00+00:00', '2019-08-27 04:00:00+00:00',\n",
       "               '2019-08-27 08:00:00+00:00', '2019-08-27 12:00:00+00:00',\n",
       "               '2019-08-27 16:00:00+00:00', '2019-08-27 20:00:00+00:00',\n",
       "               '2019-08-28 00:00:00+00:00', '2019-08-28 04:00:00+00:00',\n",
       "               '2019-08-28 08:00:00+00:00', '2019-08-28 12:00:00+00:00',\n",
       "               ...\n",
       "               '2022-08-25 04:00:00+00:00', '2022-08-25 08:00:00+00:00',\n",
       "               '2022-08-25 12:00:00+00:00', '2022-08-25 16:00:00+00:00',\n",
       "               '2022-08-25 20:00:00+00:00', '2022-08-26 00:00:00+00:00',\n",
       "               '2022-08-26 04:00:00+00:00', '2022-08-26 08:00:00+00:00',\n",
       "               '2022-08-26 12:00:00+00:00', '2022-08-26 16:00:00+00:00'],\n",
       "              dtype='datetime64[ns, UTC]', name='time', length=6575, freq='4H')"
      ]
     },
     "execution_count": 208,
     "metadata": {},
     "output_type": "execute_result"
    }
   ],
   "source": [
    "# m15_data.wrapper.index, \n",
    "h4_data.wrapper.index"
   ]
  },
  {
   "cell_type": "code",
   "execution_count": 209,
   "metadata": {},
   "outputs": [
    {
     "data": {
      "text/plain": [
       "DatetimeIndex(['2019-08-27 00:00:00+00:00', '2019-08-28 00:00:00+00:00',\n",
       "               '2019-08-29 00:00:00+00:00', '2019-08-30 00:00:00+00:00',\n",
       "               '2019-08-31 00:00:00+00:00', '2019-09-01 00:00:00+00:00',\n",
       "               '2019-09-02 00:00:00+00:00', '2019-09-03 00:00:00+00:00',\n",
       "               '2019-09-04 00:00:00+00:00', '2019-09-05 00:00:00+00:00',\n",
       "               ...\n",
       "               '2022-08-17 00:00:00+00:00', '2022-08-18 00:00:00+00:00',\n",
       "               '2022-08-19 00:00:00+00:00', '2022-08-20 00:00:00+00:00',\n",
       "               '2022-08-21 00:00:00+00:00', '2022-08-22 00:00:00+00:00',\n",
       "               '2022-08-23 00:00:00+00:00', '2022-08-24 00:00:00+00:00',\n",
       "               '2022-08-25 00:00:00+00:00', '2022-08-26 00:00:00+00:00'],\n",
       "              dtype='datetime64[ns, UTC]', name='time', length=1096, freq='D')"
      ]
     },
     "execution_count": 209,
     "metadata": {},
     "output_type": "execute_result"
    }
   ],
   "source": [
    "d1_data.wrapper.index"
   ]
  },
  {
   "cell_type": "code",
   "execution_count": 210,
   "metadata": {},
   "outputs": [
    {
     "data": {
      "text/html": [
       "<div>\n",
       "<style scoped>\n",
       "    .dataframe tbody tr th:only-of-type {\n",
       "        vertical-align: middle;\n",
       "    }\n",
       "\n",
       "    .dataframe tbody tr th {\n",
       "        vertical-align: top;\n",
       "    }\n",
       "\n",
       "    .dataframe thead th {\n",
       "        text-align: right;\n",
       "    }\n",
       "</style>\n",
       "<table border=\"1\" class=\"dataframe\">\n",
       "  <thead>\n",
       "    <tr style=\"text-align: right;\">\n",
       "      <th></th>\n",
       "      <th>Open</th>\n",
       "      <th>High</th>\n",
       "      <th>Low</th>\n",
       "      <th>Close</th>\n",
       "      <th>Volume</th>\n",
       "    </tr>\n",
       "    <tr>\n",
       "      <th>time</th>\n",
       "      <th></th>\n",
       "      <th></th>\n",
       "      <th></th>\n",
       "      <th></th>\n",
       "      <th></th>\n",
       "    </tr>\n",
       "  </thead>\n",
       "  <tbody>\n",
       "    <tr>\n",
       "      <th>2019-08-27 00:00:00+00:00</th>\n",
       "      <td>1.221095</td>\n",
       "      <td>1.225280</td>\n",
       "      <td>1.220900</td>\n",
       "      <td>1.225030</td>\n",
       "      <td>3.087917e+10</td>\n",
       "    </tr>\n",
       "    <tr>\n",
       "      <th>2019-08-27 04:00:00+00:00</th>\n",
       "      <td>1.225045</td>\n",
       "      <td>1.227655</td>\n",
       "      <td>1.224060</td>\n",
       "      <td>1.226965</td>\n",
       "      <td>4.512783e+10</td>\n",
       "    </tr>\n",
       "    <tr>\n",
       "      <th>2019-08-27 08:00:00+00:00</th>\n",
       "      <td>1.226960</td>\n",
       "      <td>1.231000</td>\n",
       "      <td>1.225215</td>\n",
       "      <td>1.228735</td>\n",
       "      <td>6.021476e+10</td>\n",
       "    </tr>\n",
       "    <tr>\n",
       "      <th>2019-08-27 12:00:00+00:00</th>\n",
       "      <td>1.228740</td>\n",
       "      <td>1.230380</td>\n",
       "      <td>1.228095</td>\n",
       "      <td>1.228765</td>\n",
       "      <td>2.032644e+10</td>\n",
       "    </tr>\n",
       "    <tr>\n",
       "      <th>2019-08-27 16:00:00+00:00</th>\n",
       "      <td>1.228780</td>\n",
       "      <td>1.229225</td>\n",
       "      <td>1.228045</td>\n",
       "      <td>1.228070</td>\n",
       "      <td>7.616710e+09</td>\n",
       "    </tr>\n",
       "    <tr>\n",
       "      <th>...</th>\n",
       "      <td>...</td>\n",
       "      <td>...</td>\n",
       "      <td>...</td>\n",
       "      <td>...</td>\n",
       "      <td>...</td>\n",
       "    </tr>\n",
       "    <tr>\n",
       "      <th>2022-08-26 00:00:00+00:00</th>\n",
       "      <td>1.182580</td>\n",
       "      <td>1.182615</td>\n",
       "      <td>1.177895</td>\n",
       "      <td>1.178830</td>\n",
       "      <td>1.852738e+10</td>\n",
       "    </tr>\n",
       "    <tr>\n",
       "      <th>2022-08-26 04:00:00+00:00</th>\n",
       "      <td>1.178845</td>\n",
       "      <td>1.184380</td>\n",
       "      <td>1.177785</td>\n",
       "      <td>1.182145</td>\n",
       "      <td>2.676285e+10</td>\n",
       "    </tr>\n",
       "    <tr>\n",
       "      <th>2022-08-26 08:00:00+00:00</th>\n",
       "      <td>1.182135</td>\n",
       "      <td>1.189770</td>\n",
       "      <td>1.175390</td>\n",
       "      <td>1.177480</td>\n",
       "      <td>7.900152e+10</td>\n",
       "    </tr>\n",
       "    <tr>\n",
       "      <th>2022-08-26 12:00:00+00:00</th>\n",
       "      <td>1.177490</td>\n",
       "      <td>1.178360</td>\n",
       "      <td>1.173540</td>\n",
       "      <td>1.173765</td>\n",
       "      <td>2.333425e+10</td>\n",
       "    </tr>\n",
       "    <tr>\n",
       "      <th>2022-08-26 16:00:00+00:00</th>\n",
       "      <td>1.173765</td>\n",
       "      <td>1.174390</td>\n",
       "      <td>1.173405</td>\n",
       "      <td>1.174355</td>\n",
       "      <td>3.558645e+09</td>\n",
       "    </tr>\n",
       "  </tbody>\n",
       "</table>\n",
       "<p>6575 rows × 5 columns</p>\n",
       "</div>"
      ],
      "text/plain": [
       "                               Open      High       Low     Close  \\\n",
       "time                                                                \n",
       "2019-08-27 00:00:00+00:00  1.221095  1.225280  1.220900  1.225030   \n",
       "2019-08-27 04:00:00+00:00  1.225045  1.227655  1.224060  1.226965   \n",
       "2019-08-27 08:00:00+00:00  1.226960  1.231000  1.225215  1.228735   \n",
       "2019-08-27 12:00:00+00:00  1.228740  1.230380  1.228095  1.228765   \n",
       "2019-08-27 16:00:00+00:00  1.228780  1.229225  1.228045  1.228070   \n",
       "...                             ...       ...       ...       ...   \n",
       "2022-08-26 00:00:00+00:00  1.182580  1.182615  1.177895  1.178830   \n",
       "2022-08-26 04:00:00+00:00  1.178845  1.184380  1.177785  1.182145   \n",
       "2022-08-26 08:00:00+00:00  1.182135  1.189770  1.175390  1.177480   \n",
       "2022-08-26 12:00:00+00:00  1.177490  1.178360  1.173540  1.173765   \n",
       "2022-08-26 16:00:00+00:00  1.173765  1.174390  1.173405  1.174355   \n",
       "\n",
       "                                 Volume  \n",
       "time                                     \n",
       "2019-08-27 00:00:00+00:00  3.087917e+10  \n",
       "2019-08-27 04:00:00+00:00  4.512783e+10  \n",
       "2019-08-27 08:00:00+00:00  6.021476e+10  \n",
       "2019-08-27 12:00:00+00:00  2.032644e+10  \n",
       "2019-08-27 16:00:00+00:00  7.616710e+09  \n",
       "...                                 ...  \n",
       "2022-08-26 00:00:00+00:00  1.852738e+10  \n",
       "2022-08-26 04:00:00+00:00  2.676285e+10  \n",
       "2022-08-26 08:00:00+00:00  7.900152e+10  \n",
       "2022-08-26 12:00:00+00:00  2.333425e+10  \n",
       "2022-08-26 16:00:00+00:00  3.558645e+09  \n",
       "\n",
       "[6575 rows x 5 columns]"
      ]
     },
     "metadata": {},
     "output_type": "display_data"
    }
   ],
   "source": [
    "h4_df = h4_data.get()\n",
    "display(h4_df)"
   ]
  },
  {
   "cell_type": "code",
   "execution_count": 211,
   "metadata": {},
   "outputs": [
    {
     "data": {
      "text/plain": [
       "pandas.core.frame.DataFrame"
      ]
     },
     "execution_count": 211,
     "metadata": {},
     "output_type": "execute_result"
    }
   ],
   "source": [
    "type(h4_df)"
   ]
  },
  {
   "cell_type": "code",
   "execution_count": 212,
   "metadata": {},
   "outputs": [],
   "source": [
    "# Obtain all the closing  prices using the .get() method\n",
    "h4_close = h4_data.get('Close')"
   ]
  },
  {
   "cell_type": "code",
   "execution_count": 213,
   "metadata": {},
   "outputs": [
    {
     "data": {
      "text/plain": [
       "time\n",
       "2019-08-30 20:00:00+00:00   NaN\n",
       "2019-08-31 00:00:00+00:00   NaN\n",
       "2019-08-31 04:00:00+00:00   NaN\n",
       "2019-08-31 08:00:00+00:00   NaN\n",
       "2019-08-31 12:00:00+00:00   NaN\n",
       "                             ..\n",
       "2022-08-20 20:00:00+00:00   NaN\n",
       "2022-08-21 00:00:00+00:00   NaN\n",
       "2022-08-21 04:00:00+00:00   NaN\n",
       "2022-08-21 08:00:00+00:00   NaN\n",
       "2022-08-21 12:00:00+00:00   NaN\n",
       "Name: Close, Length: 1734, dtype: float64"
      ]
     },
     "execution_count": 213,
     "metadata": {},
     "output_type": "execute_result"
    }
   ],
   "source": [
    "h4_close[h4_close.isna()]"
   ]
  },
  {
   "cell_type": "code",
   "execution_count": 214,
   "metadata": {},
   "outputs": [
    {
     "data": {
      "text/plain": [
       "time\n",
       "2019-08-29 04:00:00+00:00    1.221835\n",
       "2019-08-29 08:00:00+00:00    1.219570\n",
       "2019-08-29 12:00:00+00:00    1.218045\n",
       "2019-08-29 16:00:00+00:00    1.218370\n",
       "2019-08-29 20:00:00+00:00    1.217570\n",
       "2019-08-30 00:00:00+00:00    1.217655\n",
       "2019-08-30 04:00:00+00:00    1.218535\n",
       "2019-08-30 08:00:00+00:00    1.216520\n",
       "2019-08-30 12:00:00+00:00    1.216930\n",
       "2019-08-30 16:00:00+00:00    1.216260\n",
       "2019-08-30 20:00:00+00:00         NaN\n",
       "2019-08-31 00:00:00+00:00         NaN\n",
       "2019-08-31 04:00:00+00:00         NaN\n",
       "2019-08-31 08:00:00+00:00         NaN\n",
       "2019-08-31 12:00:00+00:00         NaN\n",
       "2019-08-31 16:00:00+00:00         NaN\n",
       "2019-08-31 20:00:00+00:00         NaN\n",
       "2019-09-01 00:00:00+00:00         NaN\n",
       "2019-09-01 04:00:00+00:00         NaN\n",
       "2019-09-01 08:00:00+00:00         NaN\n",
       "2019-09-01 12:00:00+00:00         NaN\n",
       "2019-09-01 16:00:00+00:00    1.215845\n",
       "2019-09-01 20:00:00+00:00    1.216015\n",
       "Freq: 4H, Name: Close, dtype: float64"
      ]
     },
     "execution_count": 214,
     "metadata": {},
     "output_type": "execute_result"
    }
   ],
   "source": [
    "## Check for a sample of missing values in h4_close\n",
    "## Looks like a typical closure during weekends, on Friday evening (30.08.2019) and reopening at Tokyo market open\n",
    "h4_close[(h4_close.index > \"2019-08-29\") & (h4_close.index < \"2019-09-02\")]"
   ]
  },
  {
   "cell_type": "code",
   "execution_count": 215,
   "metadata": {},
   "outputs": [
    {
     "name": "stdout",
     "output_type": "stream",
     "text": [
      "<class 'pandas.core.series.Series'>\n",
      "DatetimeIndex: 6575 entries, 2019-08-27 00:00:00+00:00 to 2022-08-26 16:00:00+00:00\n",
      "Freq: 4H\n",
      "Series name: Close\n",
      "Non-Null Count  Dtype  \n",
      "--------------  -----  \n",
      "4841 non-null   float64\n",
      "dtypes: float64(1)\n",
      "memory usage: 102.7 KB\n"
     ]
    }
   ],
   "source": [
    "h4_close.info()"
   ]
  },
  {
   "cell_type": "code",
   "execution_count": 216,
   "metadata": {},
   "outputs": [
    {
     "name": "stdout",
     "output_type": "stream",
     "text": [
      "<class 'pandas.core.series.Series'>\n",
      "DatetimeIndex: 6575 entries, 2019-08-27 00:00:00+00:00 to 2022-08-26 16:00:00+00:00\n",
      "Freq: 4H\n",
      "Series name: Close\n",
      "Non-Null Count  Dtype  \n",
      "--------------  -----  \n",
      "6575 non-null   float64\n",
      "dtypes: float64(1)\n",
      "memory usage: 102.7 KB\n"
     ]
    }
   ],
   "source": [
    "## Check for a sample of missing values in h4_close after ffill() operation\n",
    "h4_close = h4_close.ffill()\n",
    "h4_close.info()"
   ]
  },
  {
   "cell_type": "code",
   "execution_count": 217,
   "metadata": {},
   "outputs": [
    {
     "data": {
      "text/plain": [
       "time\n",
       "2019-08-29 04:00:00+00:00    1.221835\n",
       "2019-08-29 08:00:00+00:00    1.219570\n",
       "2019-08-29 12:00:00+00:00    1.218045\n",
       "2019-08-29 16:00:00+00:00    1.218370\n",
       "2019-08-29 20:00:00+00:00    1.217570\n",
       "2019-08-30 00:00:00+00:00    1.217655\n",
       "2019-08-30 04:00:00+00:00    1.218535\n",
       "2019-08-30 08:00:00+00:00    1.216520\n",
       "2019-08-30 12:00:00+00:00    1.216930\n",
       "2019-08-30 16:00:00+00:00    1.216260\n",
       "2019-08-30 20:00:00+00:00    1.216260\n",
       "2019-08-31 00:00:00+00:00    1.216260\n",
       "2019-08-31 04:00:00+00:00    1.216260\n",
       "2019-08-31 08:00:00+00:00    1.216260\n",
       "2019-08-31 12:00:00+00:00    1.216260\n",
       "2019-08-31 16:00:00+00:00    1.216260\n",
       "2019-08-31 20:00:00+00:00    1.216260\n",
       "2019-09-01 00:00:00+00:00    1.216260\n",
       "2019-09-01 04:00:00+00:00    1.216260\n",
       "2019-09-01 08:00:00+00:00    1.216260\n",
       "2019-09-01 12:00:00+00:00    1.216260\n",
       "2019-09-01 16:00:00+00:00    1.215845\n",
       "2019-09-01 20:00:00+00:00    1.216015\n",
       "Freq: 4H, Name: Close, dtype: float64"
      ]
     },
     "execution_count": 217,
     "metadata": {},
     "output_type": "execute_result"
    }
   ],
   "source": [
    "h4_close[(h4_close.index > \"2019-08-29\") & (h4_close.index < \"2019-09-02\")]"
   ]
  },
  {
   "cell_type": "markdown",
   "metadata": {},
   "source": [
    "### Create Indicators"
   ]
  },
  {
   "cell_type": "code",
   "execution_count": 218,
   "metadata": {},
   "outputs": [],
   "source": [
    "from scipy.signal import argrelextrema, find_peaks\n",
    "from sklearn. neighbors import KernelDensity"
   ]
  },
  {
   "cell_type": "code",
   "execution_count": 219,
   "metadata": {},
   "outputs": [],
   "source": [
    "def draw_candle_chart(sample_df, lines, region = None):\n",
    "    '''Function takes a OHLCV dataframe and draws candlesticks'''\n",
    "    f = plt.figure()\n",
    "    f.set_figwidth(15)\n",
    "    f.set_figheight(10)\n",
    "    width = .4\n",
    "    width2 = .05\n",
    "    #define up and down prices\n",
    "    up = sample_df[sample_df.Close >= sample_df.Open]\n",
    "    down = sample_df[sample_df.Close < sample_df.Open]\n",
    "    #define colors to use\n",
    "    col1 = 'green'\n",
    "    col2 = 'red'\n",
    "    #plot up prices\n",
    "    plt.bar(up.index, up.Close - up.Open, width, bottom=up.Open, color=col1)\n",
    "    plt.bar(up.index, up.High - up.Close, width2, bottom=up.Close, color=col1)\n",
    "    plt.bar(up.index, up.Low - up.Open, width2, bottom=up.Open, color=col1)\n",
    "    #plot down prices\n",
    "    plt.bar(down.index, down.Close - down.Open, width, bottom=down.Open, color=col2)\n",
    "    plt.bar(down.index, down.High - down.Open, width2, bottom=down.Open, color=col2)\n",
    "    plt.bar(down.index, down.Low - down.Close, width2, bottom=down.Close, color=col2)\n",
    "    #rotate x-axis tick labels\n",
    "    plt. xticks (rotation=45, ha='right')\n",
    "    for x in lines:\n",
    "        plt.hlines(x, xmin = sample_df.index[0], xmax = sample_df.index[-1])\n",
    "        if region is not None:\n",
    "            plt.fill_between(sample_df.index, x-x*region, x+x*region, alpha = 0.4)\n",
    "    #display candlestick chart\n",
    "    plt.show()"
   ]
  },
  {
   "cell_type": "markdown",
   "metadata": {},
   "source": [
    "Forward-fill NaN values after running an indicator (not before!). Found in `Alignment --> Indicators --> +`"
   ]
  },
  {
   "cell_type": "code",
   "execution_count": 220,
   "metadata": {},
   "outputs": [],
   "source": [
    "def support_resistance_func(source_df : pd.DataFrame, peaks_range : List = [2,4], num_peaks : int = -999) -> np.ndarray :\n",
    "    \"\"\"\n",
    "    Creates support and resistance zones (areas) with bands on closing price data.\n",
    "    Parameters\n",
    "    ==========\n",
    "    source_df   :   pd.DataFrame, contining the OHLCV data of the instrument\n",
    "    peaks_range :   List,  [min_peaks, max_peaks] to consider for the bandwidth\n",
    "    num_peaks   :   int, nr. of peaks\n",
    "\n",
    "    Returns\n",
    "    =======\n",
    "    sr_prices   :   np.ndarray, of support and resistance zones\n",
    "    \"\"\"\n",
    "    ## Input parameters\n",
    "    sample = source_df[\"Close\"].to_numpy().flatten()\n",
    "\n",
    "    maxima = argrelextrema(sample, np.greater)\n",
    "    minima = argrelextrema (sample, np.less)\n",
    "\n",
    "    extrema = np.concatenate((maxima, minima), axis=1)[0]\n",
    "    extrema_prices = np.concatenate((sample[maxima], sample[minima]) )\n",
    "    interval = extrema_prices[0]/10000\n",
    "\n",
    "    bandwidth = interval\n",
    "\n",
    "    while num_peaks < peaks_range[0] or num_peaks > peaks_range[1]:\n",
    "        initial_price = extrema_prices[0]\n",
    "        kde = KernelDensity(kernel='gaussian', bandwidth=bandwidth).fit(extrema_prices.reshape(-1,1))\n",
    "        a, b = min(extrema_prices), max(extrema_prices)\n",
    "        price_range = np.linspace(a, b, 1000).reshape(-1,1)\n",
    "        pdf = np.exp(kde.score_samples(price_range))\n",
    "        peaks = find_peaks(pdf)[0]\n",
    "\n",
    "        num_peaks = len (peaks)\n",
    "        bandwidth += interval\n",
    "        if bandwidth > 100*interval:\n",
    "            print(\"Failed to converge, stopping...\")\n",
    "            break\n",
    "    sr_prices = price_range[peaks]\n",
    "    return sr_prices\n"
   ]
  },
  {
   "cell_type": "code",
   "execution_count": 221,
   "metadata": {},
   "outputs": [
    {
     "name": "stdout",
     "output_type": "stream",
     "text": [
      "Type of price_range_peaks: <class 'numpy.ndarray'> \n",
      "Price Range [peaks]:\n",
      " [[1.29385487]\n",
      " [1.30221097]\n",
      " [1.30981314]\n",
      " [1.33601234]]\n"
     ]
    }
   ],
   "source": [
    "## Check function output\n",
    "sample_df = h4_df.iloc[500:1000]\n",
    "price_range_peaks = support_resistance_func(sample_df)\n",
    "print('Type of price_range_peaks:', type(price_range_peaks), '\\nPrice Range [peaks]:\\n' , price_range_peaks)"
   ]
  },
  {
   "cell_type": "code",
   "execution_count": 222,
   "metadata": {},
   "outputs": [
    {
     "data": {
      "image/png": "[encoded data removed]",
      "text/plain": [
       "<Figure size 1500x1000 with 1 Axes>"
      ]
     },
     "metadata": {},
     "output_type": "display_data"
    }
   ],
   "source": [
    "draw_candle_chart(sample_df, price_range_peaks, region = 0.0005)"
   ]
  },
  {
   "cell_type": "markdown",
   "metadata": {},
   "source": [
    "### Create indicator from `VBT.IndicatorFactory` and `run` the pipeline"
   ]
  },
  {
   "cell_type": "code",
   "execution_count": 223,
   "metadata": {},
   "outputs": [],
   "source": [
    "sr_indicator = vbt.IF(\n",
    "    class_name='Support_Resistance',\n",
    "    input_names = ['source_df'],\n",
    "    param_names = ['peaks_range', 'num_peaks'],\n",
    "    output_names = ['sr_prices']\n",
    ").with_custom_func(support_resistance_func)"
   ]
  },
  {
   "cell_type": "code",
   "execution_count": 224,
   "metadata": {},
   "outputs": [
    {
     "ename": "IndexError",
     "evalue": "only integers, slices (`:`), ellipsis (`...`), numpy.newaxis (`None`) and integer or boolean arrays are valid indices",
     "output_type": "error",
     "traceback": [
      "\u001b[0;31m---------------------------------------------------------------------------\u001b[0m",
      "\u001b[0;31mIndexError\u001b[0m                                Traceback (most recent call last)",
      "Cell \u001b[0;32mIn [224], line 1\u001b[0m\n\u001b[0;32m----> 1\u001b[0m sr_price_zones \u001b[38;5;241m=\u001b[39m \u001b[43msr_indicator\u001b[49m\u001b[38;5;241;43m.\u001b[39;49m\u001b[43mrun\u001b[49m\u001b[43m(\u001b[49m\u001b[43msource_df\u001b[49m\u001b[43m \u001b[49m\u001b[38;5;241;43m=\u001b[39;49m\u001b[43m \u001b[49m\u001b[43mh4_df\u001b[49m\u001b[43m,\u001b[49m\u001b[43m \u001b[49m\u001b[43mpeaks_range\u001b[49m\u001b[43m \u001b[49m\u001b[38;5;241;43m=\u001b[39;49m\u001b[43m \u001b[49m\u001b[43m[\u001b[49m\u001b[38;5;241;43m2\u001b[39;49m\u001b[43m,\u001b[49m\u001b[38;5;241;43m4\u001b[39;49m\u001b[43m]\u001b[49m\u001b[43m,\u001b[49m\u001b[43m \u001b[49m\u001b[43mnum_peaks\u001b[49m\u001b[43m \u001b[49m\u001b[38;5;241;43m=\u001b[39;49m\u001b[43m \u001b[49m\u001b[38;5;241;43m-\u001b[39;49m\u001b[38;5;241;43m999\u001b[39;49m\u001b[43m)\u001b[49m\n\u001b[1;32m      2\u001b[0m sr_price_zones\n",
      "File \u001b[0;32m/opt/miniconda3/envs/vbt/lib/python3.10/site-packages/vectorbtpro/indicators/factory.py:13\u001b[0m, in \u001b[0;36mrun\u001b[0;34m(cls, source_df, peaks_range, num_peaks, short_name, hide_params, hide_default, **kwargs)\u001b[0m\n\u001b[1;32m      1\u001b[0m \u001b[39m# Copyright (c) 2021 Oleg Polakow. All rights reserved.\u001b[39;00m\n\u001b[1;32m      3\u001b[0m \u001b[39m\"\"\"Factory for building indicators.\u001b[39;00m\n\u001b[1;32m      4\u001b[0m \n\u001b[1;32m      5\u001b[0m \u001b[39mRun for the examples below:\u001b[39;00m\n\u001b[1;32m      6\u001b[0m \n\u001b[1;32m      7\u001b[0m \u001b[39m```pycon\u001b[39;00m\n\u001b[1;32m      8\u001b[0m \u001b[39m>>> import vectorbtpro as vbt\u001b[39;00m\n\u001b[1;32m      9\u001b[0m \u001b[39m>>> import numpy as np\u001b[39;00m\n\u001b[1;32m     10\u001b[0m \u001b[39m>>> import pandas as pd\u001b[39;00m\n\u001b[1;32m     11\u001b[0m \u001b[39m>>> from numba import njit\u001b[39;00m\n\u001b[1;32m     12\u001b[0m \u001b[39m>>> from datetime import datetime\u001b[39;00m\n\u001b[0;32m---> 13\u001b[0m \n\u001b[1;32m     14\u001b[0m \u001b[39m>>> price = pd.DataFrame({\u001b[39;00m\n\u001b[1;32m     15\u001b[0m \u001b[39m...     'a': [1, 2, 3, 4, 5],\u001b[39;00m\n\u001b[1;32m     16\u001b[0m \u001b[39m...     'b': [5, 4, 3, 2, 1]\u001b[39;00m\n\u001b[1;32m     17\u001b[0m \u001b[39m... }, index=pd.Index([\u001b[39;00m\n\u001b[1;32m     18\u001b[0m \u001b[39m...     datetime(2020, 1, 1),\u001b[39;00m\n\u001b[1;32m     19\u001b[0m \u001b[39m...     datetime(2020, 1, 2),\u001b[39;00m\n\u001b[1;32m     20\u001b[0m \u001b[39m...     datetime(2020, 1, 3),\u001b[39;00m\n\u001b[1;32m     21\u001b[0m \u001b[39m...     datetime(2020, 1, 4),\u001b[39;00m\n\u001b[1;32m     22\u001b[0m \u001b[39m...     datetime(2020, 1, 5),\u001b[39;00m\n\u001b[1;32m     23\u001b[0m \u001b[39m... ])).astype(float)\u001b[39;00m\n\u001b[1;32m     24\u001b[0m \u001b[39m>>> price\u001b[39;00m\n\u001b[1;32m     25\u001b[0m \u001b[39m            a    b\u001b[39;00m\n\u001b[1;32m     26\u001b[0m \u001b[39m2020-01-01  1.0  5.0\u001b[39;00m\n\u001b[1;32m     27\u001b[0m \u001b[39m2020-01-02  2.0  4.0\u001b[39;00m\n\u001b[1;32m     28\u001b[0m \u001b[39m2020-01-03  3.0  3.0\u001b[39;00m\n\u001b[1;32m     29\u001b[0m \u001b[39m2020-01-04  4.0  2.0\u001b[39;00m\n\u001b[1;32m     30\u001b[0m \u001b[39m2020-01-05  5.0  1.0\u001b[39;00m\n\u001b[1;32m     31\u001b[0m \u001b[39m```\"\"\"\u001b[39;00m\n\u001b[1;32m     33\u001b[0m \u001b[39mimport\u001b[39;00m \u001b[39mfunctools\u001b[39;00m\n\u001b[1;32m     34\u001b[0m \u001b[39mimport\u001b[39;00m \u001b[39minspect\u001b[39;00m\n",
      "File \u001b[0;32m/opt/miniconda3/envs/vbt/lib/python3.10/site-packages/vectorbtpro/indicators/factory.py:1950\u001b[0m, in \u001b[0;36mIndicatorFactory.with_custom_func.<locals>._run\u001b[0;34m(cls, *args, **kwargs)\u001b[0m\n\u001b[1;32m   1947\u001b[0m         params[k] \u001b[39m=\u001b[39m v\u001b[39m.\u001b[39mvalue\n\u001b[1;32m   1949\u001b[0m \u001b[39m# Run the pipeline\u001b[39;00m\n\u001b[0;32m-> 1950\u001b[0m results \u001b[39m=\u001b[39m run_pipeline(\n\u001b[1;32m   1951\u001b[0m     \u001b[39mlen\u001b[39;49m(output_names),  \u001b[39m# number of returned outputs\u001b[39;49;00m\n\u001b[1;32m   1952\u001b[0m     custom_func,\n\u001b[1;32m   1953\u001b[0m     \u001b[39m*\u001b[39;49margs,\n\u001b[1;32m   1954\u001b[0m     require_input_shape\u001b[39m=\u001b[39;49mrequire_input_shape,\n\u001b[1;32m   1955\u001b[0m     inputs\u001b[39m=\u001b[39;49minputs,\n\u001b[1;32m   1956\u001b[0m     in_outputs\u001b[39m=\u001b[39;49min_outputs,\n\u001b[1;32m   1957\u001b[0m     params\u001b[39m=\u001b[39;49mparams,\n\u001b[1;32m   1958\u001b[0m     level_names\u001b[39m=\u001b[39;49mlevel_names,\n\u001b[1;32m   1959\u001b[0m     hide_levels\u001b[39m=\u001b[39;49mhide_levels,\n\u001b[1;32m   1960\u001b[0m     param_settings\u001b[39m=\u001b[39;49m_param_settings,\n\u001b[1;32m   1961\u001b[0m     in_output_settings\u001b[39m=\u001b[39;49m_in_output_settings,\n\u001b[1;32m   1962\u001b[0m     \u001b[39m*\u001b[39;49m\u001b[39m*\u001b[39;49mmerge_dicts(pipeline_kwargs, kwargs),\n\u001b[1;32m   1963\u001b[0m )\n\u001b[1;32m   1965\u001b[0m \u001b[39m# Return the raw result if any of the flags are set\u001b[39;00m\n\u001b[1;32m   1966\u001b[0m \u001b[39mif\u001b[39;00m kwargs\u001b[39m.\u001b[39mget(\u001b[39m\"\u001b[39m\u001b[39mreturn_raw\u001b[39m\u001b[39m\"\u001b[39m, \u001b[39mFalse\u001b[39;00m) \u001b[39mor\u001b[39;00m kwargs\u001b[39m.\u001b[39mget(\u001b[39m\"\u001b[39m\u001b[39mreturn_cache\u001b[39m\u001b[39m\"\u001b[39m, \u001b[39mFalse\u001b[39;00m):\n",
      "File \u001b[0;32m/opt/miniconda3/envs/vbt/lib/python3.10/site-packages/vectorbtpro/indicators/factory.py:709\u001b[0m, in \u001b[0;36mrun_pipeline\u001b[0;34m(num_ret_outputs, custom_func, require_input_shape, input_shape, input_index, input_columns, inputs, in_outputs, in_output_settings, broadcast_named_args, broadcast_kwargs, template_context, params, param_product, random_subset, param_settings, run_unique, silence_warnings, per_column, keep_pd, to_2d, pass_packed, pass_input_shape, pass_flex_2d, pass_wrapper, level_names, hide_levels, build_col_kwargs, return_raw, use_raw, wrapper_kwargs, seed, *args, **kwargs)\u001b[0m\n\u001b[1;32m    701\u001b[0m     output \u001b[39m=\u001b[39m custom_func(\n\u001b[1;32m    702\u001b[0m         \u001b[39mtuple\u001b[39m(input_list_ready),\n\u001b[1;32m    703\u001b[0m         \u001b[39mtuple\u001b[39m(in_output_list_ready),\n\u001b[0;32m   (...)\u001b[0m\n\u001b[1;32m    706\u001b[0m         \u001b[39m*\u001b[39m\u001b[39m*\u001b[39mfunc_kwargs,\n\u001b[1;32m    707\u001b[0m     )\n\u001b[1;32m    708\u001b[0m \u001b[39melse\u001b[39;00m:\n\u001b[0;32m--> 709\u001b[0m     output \u001b[39m=\u001b[39m custom_func(\u001b[39m*\u001b[39;49minput_list_ready, \u001b[39m*\u001b[39;49min_output_list_ready, \u001b[39m*\u001b[39;49mparam_list_ready, \u001b[39m*\u001b[39;49mfunc_args, \u001b[39m*\u001b[39;49m\u001b[39m*\u001b[39;49mfunc_kwargs)\n\u001b[1;32m    711\u001b[0m \u001b[39m# Return cache\u001b[39;00m\n\u001b[1;32m    712\u001b[0m \u001b[39mif\u001b[39;00m kwargs\u001b[39m.\u001b[39mget(\u001b[39m\"\u001b[39m\u001b[39mreturn_cache\u001b[39m\u001b[39m\"\u001b[39m, \u001b[39mFalse\u001b[39;00m):\n",
      "Cell \u001b[0;32mIn [220], line 15\u001b[0m, in \u001b[0;36msupport_resistance_func\u001b[0;34m(source_df, peaks_range, num_peaks)\u001b[0m\n\u001b[1;32m      2\u001b[0m \u001b[38;5;124;03m\"\"\"\u001b[39;00m\n\u001b[1;32m      3\u001b[0m \u001b[38;5;124;03mCreates support and resistance zones (areas) with bands on closing price data.\u001b[39;00m\n\u001b[1;32m      4\u001b[0m \u001b[38;5;124;03mParameters\u001b[39;00m\n\u001b[0;32m   (...)\u001b[0m\n\u001b[1;32m     12\u001b[0m \u001b[38;5;124;03msr_prices   :   np.ndarray, of support and resistance zones\u001b[39;00m\n\u001b[1;32m     13\u001b[0m \u001b[38;5;124;03m\"\"\"\u001b[39;00m\n\u001b[1;32m     14\u001b[0m \u001b[38;5;66;03m## Input parameters\u001b[39;00m\n\u001b[0;32m---> 15\u001b[0m sample \u001b[38;5;241m=\u001b[39m \u001b[43msource_df\u001b[49m\u001b[43m[\u001b[49m\u001b[38;5;124;43m\"\u001b[39;49m\u001b[38;5;124;43mClose\u001b[39;49m\u001b[38;5;124;43m\"\u001b[39;49m\u001b[43m]\u001b[49m\u001b[38;5;241m.\u001b[39mto_numpy()\u001b[38;5;241m.\u001b[39mflatten()\n\u001b[1;32m     17\u001b[0m maxima \u001b[38;5;241m=\u001b[39m argrelextrema(sample, np\u001b[38;5;241m.\u001b[39mgreater)\n\u001b[1;32m     18\u001b[0m minima \u001b[38;5;241m=\u001b[39m argrelextrema (sample, np\u001b[38;5;241m.\u001b[39mless)\n",
      "\u001b[0;31mIndexError\u001b[0m: only integers, slices (`:`), ellipsis (`...`), numpy.newaxis (`None`) and integer or boolean arrays are valid indices"
     ]
    }
   ],
   "source": [
    "sr_price_zones = sr_indicator.run(source_df = h4_df, peaks_range = [2,4], num_peaks = -999)\n",
    "sr_price_zones"
   ]
  },
  {
   "cell_type": "code",
   "execution_count": 225,
   "metadata": {},
   "outputs": [],
   "source": [
    "def sr_custom_func(price_data : pd.Series, peaks_range : List = [2,4], num_peaks : int = -999) -> np.ndarray :\n",
    "    \"\"\"\n",
    "    Creates support and resistance zones (areas) with bands on closing price data.\n",
    "    Parameters\n",
    "    ==========\n",
    "    price_data  :   pd.Series, contining the OHLCV data of the instrument\n",
    "    peaks_range :   List,  [min_peaks, max_peaks] to consider for the bandwidth\n",
    "    num_peaks   :   int, nr. of peaks\n",
    "\n",
    "    Returns\n",
    "    =======\n",
    "    sr_prices   :   np.ndarray, of support and resistance zones\n",
    "    \"\"\"\n",
    "    ## Input parameters\n",
    "    sample = price_data.to_numpy().flatten()\n",
    "\n",
    "    maxima = argrelextrema(sample, np.greater)\n",
    "    minima = argrelextrema (sample, np.less)\n",
    "\n",
    "    extrema = np.concatenate((maxima, minima), axis=1)[0]\n",
    "    extrema_prices = np.concatenate((sample[maxima], sample[minima]) )\n",
    "    interval = extrema_prices[0]/10000\n",
    "\n",
    "    bandwidth = interval\n",
    "\n",
    "    while num_peaks < peaks_range[0] or num_peaks > peaks_range[1]:\n",
    "        initial_price = extrema_prices[0]\n",
    "        kde = KernelDensity(kernel='gaussian', bandwidth=bandwidth).fit(extrema_prices.reshape(-1,1))\n",
    "        a, b = min(extrema_prices), max(extrema_prices)\n",
    "        price_range = np.linspace(a, b, 1000).reshape(-1,1)\n",
    "        pdf = np.exp(kde.score_samples(price_range))\n",
    "        peaks = find_peaks(pdf)[0]\n",
    "\n",
    "        num_peaks = len (peaks)\n",
    "        bandwidth += interval\n",
    "        if bandwidth > 100*interval:\n",
    "            print(\"Failed to converge, stopping...\")\n",
    "            break\n",
    "    sr_prices = price_range[peaks]\n",
    "    return sr_prices"
   ]
  },
  {
   "cell_type": "code",
   "execution_count": 226,
   "metadata": {},
   "outputs": [
    {
     "data": {
      "text/plain": [
       "pandas.core.series.Series"
      ]
     },
     "execution_count": 226,
     "metadata": {},
     "output_type": "execute_result"
    }
   ],
   "source": [
    "type(h4_df[\"Close\"])"
   ]
  },
  {
   "cell_type": "code",
   "execution_count": 227,
   "metadata": {},
   "outputs": [],
   "source": [
    "snr_indicator = vbt.IF(\n",
    "    class_name='SnR',\n",
    "    input_names = ['price_data'],\n",
    "    param_names = ['peaks_range', 'num_peaks'],\n",
    "    output_names = ['sr_prices']\n",
    ").with_custom_func(sr_custom_func)"
   ]
  },
  {
   "cell_type": "code",
   "execution_count": 228,
   "metadata": {},
   "outputs": [
    {
     "ename": "AttributeError",
     "evalue": "'numpy.ndarray' object has no attribute 'to_numpy'",
     "output_type": "error",
     "traceback": [
      "\u001b[0;31m---------------------------------------------------------------------------\u001b[0m",
      "\u001b[0;31mAttributeError\u001b[0m                            Traceback (most recent call last)",
      "Cell \u001b[0;32mIn [228], line 1\u001b[0m\n\u001b[0;32m----> 1\u001b[0m sr_prices \u001b[38;5;241m=\u001b[39m \u001b[43msnr_indicator\u001b[49m\u001b[38;5;241;43m.\u001b[39;49m\u001b[43mrun\u001b[49m\u001b[43m(\u001b[49m\u001b[43mprice_data\u001b[49m\u001b[43m \u001b[49m\u001b[38;5;241;43m=\u001b[39;49m\u001b[43m \u001b[49m\u001b[43mh4_df\u001b[49m\u001b[43m[\u001b[49m\u001b[38;5;124;43m\"\u001b[39;49m\u001b[38;5;124;43mClose\u001b[39;49m\u001b[38;5;124;43m\"\u001b[39;49m\u001b[43m]\u001b[49m\u001b[43m,\u001b[49m\u001b[43m \u001b[49m\u001b[43mpeaks_range\u001b[49m\u001b[43m \u001b[49m\u001b[38;5;241;43m=\u001b[39;49m\u001b[43m \u001b[49m\u001b[43m[\u001b[49m\u001b[38;5;241;43m2\u001b[39;49m\u001b[43m,\u001b[49m\u001b[38;5;241;43m4\u001b[39;49m\u001b[43m]\u001b[49m\u001b[43m,\u001b[49m\u001b[43m \u001b[49m\u001b[43mnum_peaks\u001b[49m\u001b[43m \u001b[49m\u001b[38;5;241;43m=\u001b[39;49m\u001b[43m \u001b[49m\u001b[38;5;241;43m-\u001b[39;49m\u001b[38;5;241;43m999\u001b[39;49m\u001b[43m)\u001b[49m\n\u001b[1;32m      2\u001b[0m sr_prices\n",
      "File \u001b[0;32m/opt/miniconda3/envs/vbt/lib/python3.10/site-packages/vectorbtpro/indicators/factory.py:13\u001b[0m, in \u001b[0;36mrun\u001b[0;34m(cls, price_data, peaks_range, num_peaks, short_name, hide_params, hide_default, **kwargs)\u001b[0m\n\u001b[1;32m      1\u001b[0m \u001b[39m# Copyright (c) 2021 Oleg Polakow. All rights reserved.\u001b[39;00m\n\u001b[1;32m      3\u001b[0m \u001b[39m\"\"\"Factory for building indicators.\u001b[39;00m\n\u001b[1;32m      4\u001b[0m \n\u001b[1;32m      5\u001b[0m \u001b[39mRun for the examples below:\u001b[39;00m\n\u001b[1;32m      6\u001b[0m \n\u001b[1;32m      7\u001b[0m \u001b[39m```pycon\u001b[39;00m\n\u001b[1;32m      8\u001b[0m \u001b[39m>>> import vectorbtpro as vbt\u001b[39;00m\n\u001b[1;32m      9\u001b[0m \u001b[39m>>> import numpy as np\u001b[39;00m\n\u001b[1;32m     10\u001b[0m \u001b[39m>>> import pandas as pd\u001b[39;00m\n\u001b[1;32m     11\u001b[0m \u001b[39m>>> from numba import njit\u001b[39;00m\n\u001b[1;32m     12\u001b[0m \u001b[39m>>> from datetime import datetime\u001b[39;00m\n\u001b[0;32m---> 13\u001b[0m \n\u001b[1;32m     14\u001b[0m \u001b[39m>>> price = pd.DataFrame({\u001b[39;00m\n\u001b[1;32m     15\u001b[0m \u001b[39m...     'a': [1, 2, 3, 4, 5],\u001b[39;00m\n\u001b[1;32m     16\u001b[0m \u001b[39m...     'b': [5, 4, 3, 2, 1]\u001b[39;00m\n\u001b[1;32m     17\u001b[0m \u001b[39m... }, index=pd.Index([\u001b[39;00m\n\u001b[1;32m     18\u001b[0m \u001b[39m...     datetime(2020, 1, 1),\u001b[39;00m\n\u001b[1;32m     19\u001b[0m \u001b[39m...     datetime(2020, 1, 2),\u001b[39;00m\n\u001b[1;32m     20\u001b[0m \u001b[39m...     datetime(2020, 1, 3),\u001b[39;00m\n\u001b[1;32m     21\u001b[0m \u001b[39m...     datetime(2020, 1, 4),\u001b[39;00m\n\u001b[1;32m     22\u001b[0m \u001b[39m...     datetime(2020, 1, 5),\u001b[39;00m\n\u001b[1;32m     23\u001b[0m \u001b[39m... ])).astype(float)\u001b[39;00m\n\u001b[1;32m     24\u001b[0m \u001b[39m>>> price\u001b[39;00m\n\u001b[1;32m     25\u001b[0m \u001b[39m            a    b\u001b[39;00m\n\u001b[1;32m     26\u001b[0m \u001b[39m2020-01-01  1.0  5.0\u001b[39;00m\n\u001b[1;32m     27\u001b[0m \u001b[39m2020-01-02  2.0  4.0\u001b[39;00m\n\u001b[1;32m     28\u001b[0m \u001b[39m2020-01-03  3.0  3.0\u001b[39;00m\n\u001b[1;32m     29\u001b[0m \u001b[39m2020-01-04  4.0  2.0\u001b[39;00m\n\u001b[1;32m     30\u001b[0m \u001b[39m2020-01-05  5.0  1.0\u001b[39;00m\n\u001b[1;32m     31\u001b[0m \u001b[39m```\"\"\"\u001b[39;00m\n\u001b[1;32m     33\u001b[0m \u001b[39mimport\u001b[39;00m \u001b[39mfunctools\u001b[39;00m\n\u001b[1;32m     34\u001b[0m \u001b[39mimport\u001b[39;00m \u001b[39minspect\u001b[39;00m\n",
      "File \u001b[0;32m/opt/miniconda3/envs/vbt/lib/python3.10/site-packages/vectorbtpro/indicators/factory.py:1950\u001b[0m, in \u001b[0;36mIndicatorFactory.with_custom_func.<locals>._run\u001b[0;34m(cls, *args, **kwargs)\u001b[0m\n\u001b[1;32m   1947\u001b[0m         params[k] \u001b[39m=\u001b[39m v\u001b[39m.\u001b[39mvalue\n\u001b[1;32m   1949\u001b[0m \u001b[39m# Run the pipeline\u001b[39;00m\n\u001b[0;32m-> 1950\u001b[0m results \u001b[39m=\u001b[39m run_pipeline(\n\u001b[1;32m   1951\u001b[0m     \u001b[39mlen\u001b[39;49m(output_names),  \u001b[39m# number of returned outputs\u001b[39;49;00m\n\u001b[1;32m   1952\u001b[0m     custom_func,\n\u001b[1;32m   1953\u001b[0m     \u001b[39m*\u001b[39;49margs,\n\u001b[1;32m   1954\u001b[0m     require_input_shape\u001b[39m=\u001b[39;49mrequire_input_shape,\n\u001b[1;32m   1955\u001b[0m     inputs\u001b[39m=\u001b[39;49minputs,\n\u001b[1;32m   1956\u001b[0m     in_outputs\u001b[39m=\u001b[39;49min_outputs,\n\u001b[1;32m   1957\u001b[0m     params\u001b[39m=\u001b[39;49mparams,\n\u001b[1;32m   1958\u001b[0m     level_names\u001b[39m=\u001b[39;49mlevel_names,\n\u001b[1;32m   1959\u001b[0m     hide_levels\u001b[39m=\u001b[39;49mhide_levels,\n\u001b[1;32m   1960\u001b[0m     param_settings\u001b[39m=\u001b[39;49m_param_settings,\n\u001b[1;32m   1961\u001b[0m     in_output_settings\u001b[39m=\u001b[39;49m_in_output_settings,\n\u001b[1;32m   1962\u001b[0m     \u001b[39m*\u001b[39;49m\u001b[39m*\u001b[39;49mmerge_dicts(pipeline_kwargs, kwargs),\n\u001b[1;32m   1963\u001b[0m )\n\u001b[1;32m   1965\u001b[0m \u001b[39m# Return the raw result if any of the flags are set\u001b[39;00m\n\u001b[1;32m   1966\u001b[0m \u001b[39mif\u001b[39;00m kwargs\u001b[39m.\u001b[39mget(\u001b[39m\"\u001b[39m\u001b[39mreturn_raw\u001b[39m\u001b[39m\"\u001b[39m, \u001b[39mFalse\u001b[39;00m) \u001b[39mor\u001b[39;00m kwargs\u001b[39m.\u001b[39mget(\u001b[39m\"\u001b[39m\u001b[39mreturn_cache\u001b[39m\u001b[39m\"\u001b[39m, \u001b[39mFalse\u001b[39;00m):\n",
      "File \u001b[0;32m/opt/miniconda3/envs/vbt/lib/python3.10/site-packages/vectorbtpro/indicators/factory.py:709\u001b[0m, in \u001b[0;36mrun_pipeline\u001b[0;34m(num_ret_outputs, custom_func, require_input_shape, input_shape, input_index, input_columns, inputs, in_outputs, in_output_settings, broadcast_named_args, broadcast_kwargs, template_context, params, param_product, random_subset, param_settings, run_unique, silence_warnings, per_column, keep_pd, to_2d, pass_packed, pass_input_shape, pass_flex_2d, pass_wrapper, level_names, hide_levels, build_col_kwargs, return_raw, use_raw, wrapper_kwargs, seed, *args, **kwargs)\u001b[0m\n\u001b[1;32m    701\u001b[0m     output \u001b[39m=\u001b[39m custom_func(\n\u001b[1;32m    702\u001b[0m         \u001b[39mtuple\u001b[39m(input_list_ready),\n\u001b[1;32m    703\u001b[0m         \u001b[39mtuple\u001b[39m(in_output_list_ready),\n\u001b[0;32m   (...)\u001b[0m\n\u001b[1;32m    706\u001b[0m         \u001b[39m*\u001b[39m\u001b[39m*\u001b[39mfunc_kwargs,\n\u001b[1;32m    707\u001b[0m     )\n\u001b[1;32m    708\u001b[0m \u001b[39melse\u001b[39;00m:\n\u001b[0;32m--> 709\u001b[0m     output \u001b[39m=\u001b[39m custom_func(\u001b[39m*\u001b[39;49minput_list_ready, \u001b[39m*\u001b[39;49min_output_list_ready, \u001b[39m*\u001b[39;49mparam_list_ready, \u001b[39m*\u001b[39;49mfunc_args, \u001b[39m*\u001b[39;49m\u001b[39m*\u001b[39;49mfunc_kwargs)\n\u001b[1;32m    711\u001b[0m \u001b[39m# Return cache\u001b[39;00m\n\u001b[1;32m    712\u001b[0m \u001b[39mif\u001b[39;00m kwargs\u001b[39m.\u001b[39mget(\u001b[39m\"\u001b[39m\u001b[39mreturn_cache\u001b[39m\u001b[39m\"\u001b[39m, \u001b[39mFalse\u001b[39;00m):\n",
      "Cell \u001b[0;32mIn [225], line 15\u001b[0m, in \u001b[0;36msr_custom_func\u001b[0;34m(price_data, peaks_range, num_peaks)\u001b[0m\n\u001b[1;32m      2\u001b[0m \u001b[38;5;124;03m\"\"\"\u001b[39;00m\n\u001b[1;32m      3\u001b[0m \u001b[38;5;124;03mCreates support and resistance zones (areas) with bands on closing price data.\u001b[39;00m\n\u001b[1;32m      4\u001b[0m \u001b[38;5;124;03mParameters\u001b[39;00m\n\u001b[0;32m   (...)\u001b[0m\n\u001b[1;32m     12\u001b[0m \u001b[38;5;124;03msr_prices   :   np.ndarray, of support and resistance zones\u001b[39;00m\n\u001b[1;32m     13\u001b[0m \u001b[38;5;124;03m\"\"\"\u001b[39;00m\n\u001b[1;32m     14\u001b[0m \u001b[38;5;66;03m## Input parameters\u001b[39;00m\n\u001b[0;32m---> 15\u001b[0m sample \u001b[38;5;241m=\u001b[39m \u001b[43mprice_data\u001b[49m\u001b[38;5;241;43m.\u001b[39;49m\u001b[43mto_numpy\u001b[49m()\u001b[38;5;241m.\u001b[39mflatten()\n\u001b[1;32m     17\u001b[0m maxima \u001b[38;5;241m=\u001b[39m argrelextrema(sample, np\u001b[38;5;241m.\u001b[39mgreater)\n\u001b[1;32m     18\u001b[0m minima \u001b[38;5;241m=\u001b[39m argrelextrema (sample, np\u001b[38;5;241m.\u001b[39mless)\n",
      "\u001b[0;31mAttributeError\u001b[0m: 'numpy.ndarray' object has no attribute 'to_numpy'"
     ]
    }
   ],
   "source": [
    "sr_prices = snr_indicator.run(price_data = h4_df[\"Close\"], peaks_range = [2,4], num_peaks = -999)\n",
    "sr_prices"
   ]
  }
 ],
 "metadata": {
  "kernelspec": {
   "display_name": "Python 3.10.4 ('vbt')",
   "language": "python",
   "name": "python3"
  },
  "language_info": {
   "codemirror_mode": {
    "name": "ipython",
    "version": 3
   },
   "file_extension": ".py",
   "mimetype": "text/x-python",
   "name": "python",
   "nbconvert_exporter": "python",
   "pygments_lexer": "ipython3",
   "version": "3.10.4"
  },
  "orig_nbformat": 4,
  "vscode": {
   "interpreter": {
    "hash": "553d3b352623cb609a2efe4df91242fdc89d5ebcee56d9279e2aa2c11b529c13"
   }
  }
 },
 "nbformat": 4,
 "nbformat_minor": 2
}
