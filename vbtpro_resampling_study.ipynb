{
 "cells": [
  {
   "cell_type": "markdown",
   "id": "bebc839f",
   "metadata": {},
   "source": [
    "importing the librarires"
   ]
  },
  {
   "cell_type": "code",
   "execution_count": 1,
   "id": "65f6e0fd",
   "metadata": {},
   "outputs": [],
   "source": [
    "import numpy as np\n",
    "import pandas as pd\n",
    "from numba import njit\n",
    "import vectorbtpro as vbt\n",
    "# import pandas_ta as ta\n",
    "import talib as talib\n",
    "from typing import List"
   ]
  },
  {
   "cell_type": "code",
   "execution_count": 2,
   "id": "5cfe0c83",
   "metadata": {},
   "outputs": [],
   "source": [
    "m1_data = vbt.HDFData.fetch(\"GU_OHLCV_3Y.h5\")"
   ]
  },
  {
   "cell_type": "markdown",
   "id": "d9f6f483",
   "metadata": {},
   "source": [
    "#M15 DataFrame\n",
    "m15_ohlcv = m1_data.get().resample(\"15T\").agg({  \n",
    "    \"Open\": \"first\",\n",
    "    \"High\": \"max\",\n",
    "    \"Low\": \"min\",\n",
    "    \"Close\": \"last\",\n",
    "    \"Volume\": \"sum\"\n",
    "})\n",
    "\n",
    "#M30 DataFrame\n",
    "m30_ohlcv = m1_data.get().resample(\"30T\").agg({  \n",
    "    \"Open\": \"first\",\n",
    "    \"High\": \"max\",\n",
    "    \"Low\": \"min\",\n",
    "    \"Close\": \"last\",\n",
    "    \"Volume\": \"sum\"\n",
    "})\n",
    "\n",
    "#H1 DataFrame\n",
    "h1_ohlcv = m1_data.get().resample(\"1h\").agg({  \n",
    "    \"Open\": \"first\",\n",
    "    \"High\": \"max\",\n",
    "    \"Low\": \"min\",\n",
    "    \"Close\": \"last\",\n",
    "    \"Volume\": \"sum\"\n",
    "})\n",
    "\n",
    "#4h DataFrame\n",
    "h4_ohlcv = m1_data.get().resample(\"4h\").agg({  \n",
    "    \"Open\": \"first\",\n",
    "    \"High\": \"max\",\n",
    "    \"Low\": \"min\",\n",
    "    \"Close\": \"last\",\n",
    "    \"Volume\": \"sum\"\n",
    "})"
   ]
  },
  {
   "cell_type": "code",
   "execution_count": 3,
   "id": "ab91e5ae",
   "metadata": {},
   "outputs": [
    {
     "data": {
      "text/plain": [
       "DatetimeIndex(['2019-08-27 00:00:00+00:00', '2019-08-27 00:01:00+00:00',\n",
       "               '2019-08-27 00:02:00+00:00', '2019-08-27 00:03:00+00:00',\n",
       "               '2019-08-27 00:04:00+00:00', '2019-08-27 00:05:00+00:00',\n",
       "               '2019-08-27 00:06:00+00:00', '2019-08-27 00:07:00+00:00',\n",
       "               '2019-08-27 00:08:00+00:00', '2019-08-27 00:09:00+00:00',\n",
       "               ...\n",
       "               '2022-08-26 16:50:00+00:00', '2022-08-26 16:51:00+00:00',\n",
       "               '2022-08-26 16:52:00+00:00', '2022-08-26 16:53:00+00:00',\n",
       "               '2022-08-26 16:54:00+00:00', '2022-08-26 16:55:00+00:00',\n",
       "               '2022-08-26 16:56:00+00:00', '2022-08-26 16:57:00+00:00',\n",
       "               '2022-08-26 16:58:00+00:00', '2022-08-26 16:59:00+00:00'],\n",
       "              dtype='datetime64[ns, UTC]', name='time', length=1122468, freq=None)"
      ]
     },
     "execution_count": 3,
     "metadata": {},
     "output_type": "execute_result"
    }
   ],
   "source": [
    "m1_data.wrapper.index #pandas doesnt recognise the frequency because of missing timestamps"
   ]
  },
  {
   "cell_type": "code",
   "execution_count": 4,
   "metadata": {},
   "outputs": [],
   "source": [
    "m1_resampler = m1_data.wrapper.create_resampler(\"1m\")"
   ]
  },
  {
   "cell_type": "code",
   "execution_count": 5,
   "metadata": {},
   "outputs": [
    {
     "data": {
      "text/plain": [
       "DatetimeIndex(['2019-08-29 17:40:00+00:00', '2019-08-30 17:00:00+00:00',\n",
       "               '2019-08-30 17:01:00+00:00', '2019-08-30 17:02:00+00:00',\n",
       "               '2019-08-30 17:03:00+00:00', '2019-08-30 17:04:00+00:00',\n",
       "               '2019-08-30 17:05:00+00:00', '2019-08-30 17:06:00+00:00',\n",
       "               '2019-08-30 17:07:00+00:00', '2019-08-30 17:08:00+00:00',\n",
       "               ...\n",
       "               '2022-08-21 17:20:00+00:00', '2022-08-21 17:21:00+00:00',\n",
       "               '2022-08-22 17:03:00+00:00', '2022-08-24 17:01:00+00:00',\n",
       "               '2022-08-24 17:04:00+00:00', '2022-08-24 17:26:00+00:00',\n",
       "               '2022-08-25 18:04:00+00:00', '2022-08-25 18:19:00+00:00',\n",
       "               '2022-08-25 18:20:00+00:00', '2022-08-25 18:23:00+00:00'],\n",
       "              dtype='datetime64[ns, UTC]', name='time', length=455352, freq=None)"
      ]
     },
     "execution_count": 5,
     "metadata": {},
     "output_type": "execute_result"
    }
   ],
   "source": [
    "m1_resampler.index_difference(reverse=True)"
   ]
  },
  {
   "cell_type": "markdown",
   "id": "ebf6033a",
   "metadata": {},
   "source": [
    "Downsampling `1 minute` data to Higher Time Frames"
   ]
  },
  {
   "cell_type": "code",
   "execution_count": 6,
   "metadata": {},
   "outputs": [],
   "source": [
    "m15_data = m1_data.resample('15T') #1 minute to 15 mins\n",
    "m30_data = m1_data.resample('30T') #1 minute to 30 mins\n",
    "h1_data = m1_data.resample(\"1h\") #1 minute to 1hour\n",
    "h4_data = m1_data.resample(\"4h\") #1 minute to  4 hour\n",
    "d1_data = m1_data.resample(\"1d\") #1 minute to daily"
   ]
  },
  {
   "cell_type": "markdown",
   "id": "13a8e67f",
   "metadata": {},
   "source": [
    "The missing frequency has been checked for , ` freq = '4H'` and `freq = 'D' `  "
   ]
  },
  {
   "cell_type": "code",
   "execution_count": 20,
   "id": "19d17ed7",
   "metadata": {},
   "outputs": [
    {
     "data": {
      "text/plain": [
       "(DatetimeIndex(['2019-08-27 00:00:00+00:00', '2019-08-27 01:00:00+00:00',\n",
       "                '2019-08-27 02:00:00+00:00', '2019-08-27 03:00:00+00:00',\n",
       "                '2019-08-27 04:00:00+00:00', '2019-08-27 05:00:00+00:00',\n",
       "                '2019-08-27 06:00:00+00:00', '2019-08-27 07:00:00+00:00',\n",
       "                '2019-08-27 08:00:00+00:00', '2019-08-27 09:00:00+00:00',\n",
       "                ...\n",
       "                '2022-08-26 07:00:00+00:00', '2022-08-26 08:00:00+00:00',\n",
       "                '2022-08-26 09:00:00+00:00', '2022-08-26 10:00:00+00:00',\n",
       "                '2022-08-26 11:00:00+00:00', '2022-08-26 12:00:00+00:00',\n",
       "                '2022-08-26 13:00:00+00:00', '2022-08-26 14:00:00+00:00',\n",
       "                '2022-08-26 15:00:00+00:00', '2022-08-26 16:00:00+00:00'],\n",
       "               dtype='datetime64[ns, UTC]', name='time', length=26297, freq='H'),\n",
       " DatetimeIndex(['2019-08-27 00:00:00+00:00', '2019-08-27 04:00:00+00:00',\n",
       "                '2019-08-27 08:00:00+00:00', '2019-08-27 12:00:00+00:00',\n",
       "                '2019-08-27 16:00:00+00:00', '2019-08-27 20:00:00+00:00',\n",
       "                '2019-08-28 00:00:00+00:00', '2019-08-28 04:00:00+00:00',\n",
       "                '2019-08-28 08:00:00+00:00', '2019-08-28 12:00:00+00:00',\n",
       "                ...\n",
       "                '2022-08-25 04:00:00+00:00', '2022-08-25 08:00:00+00:00',\n",
       "                '2022-08-25 12:00:00+00:00', '2022-08-25 16:00:00+00:00',\n",
       "                '2022-08-25 20:00:00+00:00', '2022-08-26 00:00:00+00:00',\n",
       "                '2022-08-26 04:00:00+00:00', '2022-08-26 08:00:00+00:00',\n",
       "                '2022-08-26 12:00:00+00:00', '2022-08-26 16:00:00+00:00'],\n",
       "               dtype='datetime64[ns, UTC]', name='time', length=6575, freq='4H'),\n",
       " DatetimeIndex(['2019-08-27 00:00:00+00:00', '2019-08-28 00:00:00+00:00',\n",
       "                '2019-08-29 00:00:00+00:00', '2019-08-30 00:00:00+00:00',\n",
       "                '2019-08-31 00:00:00+00:00', '2019-09-01 00:00:00+00:00',\n",
       "                '2019-09-02 00:00:00+00:00', '2019-09-03 00:00:00+00:00',\n",
       "                '2019-09-04 00:00:00+00:00', '2019-09-05 00:00:00+00:00',\n",
       "                ...\n",
       "                '2022-08-17 00:00:00+00:00', '2022-08-18 00:00:00+00:00',\n",
       "                '2022-08-19 00:00:00+00:00', '2022-08-20 00:00:00+00:00',\n",
       "                '2022-08-21 00:00:00+00:00', '2022-08-22 00:00:00+00:00',\n",
       "                '2022-08-23 00:00:00+00:00', '2022-08-24 00:00:00+00:00',\n",
       "                '2022-08-25 00:00:00+00:00', '2022-08-26 00:00:00+00:00'],\n",
       "               dtype='datetime64[ns, UTC]', name='time', length=1096, freq='D'))"
      ]
     },
     "execution_count": 20,
     "metadata": {},
     "output_type": "execute_result"
    }
   ],
   "source": [
    "# m15_data.wrapper.index , m30_data.wrapper.index , \n",
    "h1_data.wrapper.index, h4_data.wrapper.index,d1_data.wrapper.index #pandas now recognises the frequency of the timeseries after resampling"
   ]
  },
  {
   "cell_type": "markdown",
   "id": "54d9fa49",
   "metadata": {},
   "source": [
    "One can use the <code> .get() </code> from `vectorBT's` to convert `vectorbtpro.data.custom.HDFData` to `pd.DataFrame`"
   ]
  },
  {
   "cell_type": "markdown",
   "id": "9a668faa",
   "metadata": {},
   "source": [
    "#### Alignment"
   ]
  },
  {
   "cell_type": "code",
   "execution_count": 8,
   "id": "0e3246c6",
   "metadata": {},
   "outputs": [],
   "source": [
    "#obtaining all the closing using the .get() method\n",
    "m15_close = m15_data.get()['Close']\n",
    "m30_close = m30_data.get()['Close']\n",
    "h1_close = h1_data.get()['Close']\n",
    "h4_close = h4_data.get()['Close']\n",
    "d1_close = d1_data.get()['Close']"
   ]
  },
  {
   "cell_type": "code",
   "execution_count": 9,
   "id": "5e7d0b69",
   "metadata": {},
   "outputs": [
    {
     "data": {
      "text/plain": [
       "time\n",
       "2022-08-26 12:00:00+00:00    1.175535\n",
       "2022-08-26 13:00:00+00:00    1.175515\n",
       "2022-08-26 14:00:00+00:00    1.174390\n",
       "2022-08-26 15:00:00+00:00    1.173765\n",
       "2022-08-26 16:00:00+00:00    1.174355\n",
       "Freq: H, Name: Close, dtype: float64"
      ]
     },
     "execution_count": 9,
     "metadata": {},
     "output_type": "execute_result"
    }
   ],
   "source": [
    "h1_close.tail()"
   ]
  },
  {
   "cell_type": "code",
   "execution_count": 10,
   "id": "6fb3bfad",
   "metadata": {},
   "outputs": [
    {
     "data": {
      "text/plain": [
       "(time\n",
       " 2019-08-27 00:00:00+00:00    1.221735\n",
       " 2019-08-27 01:00:00+00:00    1.221890\n",
       " 2019-08-27 02:00:00+00:00    1.221580\n",
       " 2019-08-27 03:00:00+00:00    1.225030\n",
       " Freq: H, Name: Close, dtype: float64,\n",
       " time\n",
       " 2019-08-27 00:00:00+00:00    1.225030\n",
       " 2019-08-27 04:00:00+00:00    1.226965\n",
       " 2019-08-27 08:00:00+00:00    1.228735\n",
       " 2019-08-27 12:00:00+00:00    1.228765\n",
       " Freq: 4H, Name: Close, dtype: float64)"
      ]
     },
     "execution_count": 10,
     "metadata": {},
     "output_type": "execute_result"
    }
   ],
   "source": [
    "h1_close.iloc[:4] ,h4_close.iloc[:4] "
   ]
  },
  {
   "cell_type": "code",
   "execution_count": 11,
   "id": "f20e536a",
   "metadata": {},
   "outputs": [
    {
     "data": {
      "text/plain": [
       "time\n",
       "2019-08-27 00:00:00+00:00    0.99731\n",
       "2019-08-27 01:00:00+00:00        NaN\n",
       "2019-08-27 02:00:00+00:00        NaN\n",
       "2019-08-27 03:00:00+00:00        NaN\n",
       "Name: Close, dtype: float64"
      ]
     },
     "execution_count": 11,
     "metadata": {},
     "output_type": "execute_result"
    }
   ],
   "source": [
    "h1_h4_ratio = h1_close / h4_close\n",
    "h1_h4_ratio.iloc[:4]"
   ]
  },
  {
   "cell_type": "code",
   "execution_count": 12,
   "id": "1ca1d3b7",
   "metadata": {},
   "outputs": [
    {
     "data": {
      "text/plain": [
       "time\n",
       "2019-08-27 00:00:00+00:00         NaN\n",
       "2019-08-27 01:00:00+00:00         NaN\n",
       "2019-08-27 02:00:00+00:00         NaN\n",
       "2019-08-27 03:00:00+00:00    0.998798\n",
       "2019-08-27 04:00:00+00:00         NaN\n",
       "2019-08-27 05:00:00+00:00         NaN\n",
       "2019-08-27 06:00:00+00:00         NaN\n",
       "2019-08-27 07:00:00+00:00    0.999202\n",
       "2019-08-27 08:00:00+00:00         NaN\n",
       "Name: Close, dtype: float64"
      ]
     },
     "execution_count": 12,
     "metadata": {},
     "output_type": "execute_result"
    }
   ],
   "source": [
    "h1_h4_ratio.shift(-1).iloc[:9]"
   ]
  },
  {
   "cell_type": "markdown",
   "id": "0896d5a0",
   "metadata": {},
   "source": [
    "Upsampling\n",
    "\n",
    "* Don't forward and backward shift when downsampling, only when upsampling.\n",
    "\n"
   ]
  },
  {
   "cell_type": "code",
   "execution_count": 13,
   "metadata": {},
   "outputs": [
    {
     "data": {
      "text/plain": [
       "time\n",
       "2019-08-27 00:00:00+00:00         NaN\n",
       "2019-08-27 01:00:00+00:00         NaN\n",
       "2019-08-27 02:00:00+00:00         NaN\n",
       "2019-08-27 03:00:00+00:00    1.225030\n",
       "2019-08-27 04:00:00+00:00    1.225030\n",
       "2019-08-27 05:00:00+00:00    1.225030\n",
       "2019-08-27 06:00:00+00:00    1.225030\n",
       "2019-08-27 07:00:00+00:00    1.226965\n",
       "Freq: H, Name: Close, dtype: float64"
      ]
     },
     "execution_count": 13,
     "metadata": {},
     "output_type": "execute_result"
    }
   ],
   "source": [
    "h4_h1_close = h4_close.shift(1).resample(\"1h\").last().shift(-1).ffill()\n",
    "h4_h1_close.iloc[:8]"
   ]
  },
  {
   "cell_type": "code",
   "execution_count": 14,
   "metadata": {},
   "outputs": [
    {
     "data": {
      "image/svg+xml": "<svg class=\"main-svg\" xmlns=\"http://www.w3.org/2000/svg\" xmlns:xlink=\"http://www.w3.org/1999/xlink\" width=\"700\" height=\"350\" style=\"\" viewBox=\"0 0 700 350\"><rect x=\"0\" y=\"0\" width=\"700\" height=\"350\" style=\"fill: rgb(255, 255, 255); fill-opacity: 1;\"/><defs id=\"defs-5e97e6\"><g class=\"clips\"><clipPath id=\"clip5e97e6xyplot\" class=\"plotclip\"><rect width=\"622\" height=\"261\"/></clipPath><clipPath class=\"axesclip\" id=\"clip5e97e6x\"><rect x=\"48\" y=\"0\" width=\"622\" height=\"350\"/></clipPath><clipPath class=\"axesclip\" id=\"clip5e97e6y\"><rect x=\"0\" y=\"46\" width=\"700\" height=\"261\"/></clipPath><clipPath class=\"axesclip\" id=\"clip5e97e6xy\"><rect x=\"48\" y=\"46\" width=\"622\" height=\"261\"/></clipPath></g><g class=\"gradients\"/><g class=\"patterns\"/></defs><g class=\"bglayer\"><rect class=\"bg\" x=\"48\" y=\"46\" width=\"622\" height=\"261\" style=\"fill: rgb(229, 236, 246); fill-opacity: 1; stroke-width: 0;\"/></g><g class=\"layer-below\"><g class=\"imagelayer\"/><g class=\"shapelayer\"/></g><g class=\"cartesianlayer\"><g class=\"subplot xy\"><g class=\"layer-subplot\"><g class=\"shapelayer\"/><g class=\"imagelayer\"/></g><g class=\"minor-gridlayer\"><g class=\"x\"/><g class=\"y\"/></g><g class=\"gridlayer\"><g class=\"x\"><path class=\"xgrid crisp\" transform=\"translate(82.85,0)\" d=\"M0,46v261\" style=\"stroke: rgb(255, 255, 255); stroke-opacity: 1; stroke-width: 1px;\"/><path class=\"xgrid crisp\" transform=\"translate(156.49,0)\" d=\"M0,46v261\" style=\"stroke: rgb(255, 255, 255); stroke-opacity: 1; stroke-width: 1px;\"/><path class=\"xgrid crisp\" transform=\"translate(230.13,0)\" d=\"M0,46v261\" style=\"stroke: rgb(255, 255, 255); stroke-opacity: 1; stroke-width: 1px;\"/><path class=\"xgrid crisp\" transform=\"translate(303.77,0)\" d=\"M0,46v261\" style=\"stroke: rgb(255, 255, 255); stroke-opacity: 1; stroke-width: 1px;\"/><path class=\"xgrid crisp\" transform=\"translate(377.41,0)\" d=\"M0,46v261\" style=\"stroke: rgb(255, 255, 255); stroke-opacity: 1; stroke-width: 1px;\"/><path class=\"xgrid crisp\" transform=\"translate(451.05,0)\" d=\"M0,46v261\" style=\"stroke: rgb(255, 255, 255); stroke-opacity: 1; stroke-width: 1px;\"/><path class=\"xgrid crisp\" transform=\"translate(524.69,0)\" d=\"M0,46v261\" style=\"stroke: rgb(255, 255, 255); stroke-opacity: 1; stroke-width: 1px;\"/><path class=\"xgrid crisp\" transform=\"translate(598.33,0)\" d=\"M0,46v261\" style=\"stroke: rgb(255, 255, 255); stroke-opacity: 1; stroke-width: 1px;\"/></g><g class=\"y\"><path class=\"ygrid crisp\" transform=\"translate(0,278.41999999999996)\" d=\"M48,0h622\" style=\"stroke: rgb(255, 255, 255); stroke-opacity: 1; stroke-width: 1px;\"/><path class=\"ygrid crisp\" transform=\"translate(0,222.3)\" d=\"M48,0h622\" style=\"stroke: rgb(255, 255, 255); stroke-opacity: 1; stroke-width: 1px;\"/><path class=\"ygrid crisp\" transform=\"translate(0,166.19)\" d=\"M48,0h622\" style=\"stroke: rgb(255, 255, 255); stroke-opacity: 1; stroke-width: 1px;\"/><path class=\"ygrid crisp\" transform=\"translate(0,110.08)\" d=\"M48,0h622\" style=\"stroke: rgb(255, 255, 255); stroke-opacity: 1; stroke-width: 1px;\"/><path class=\"ygrid crisp\" transform=\"translate(0,53.96)\" d=\"M48,0h622\" style=\"stroke: rgb(255, 255, 255); stroke-opacity: 1; stroke-width: 1px;\"/></g></g><g class=\"zerolinelayer\"/><path class=\"xlines-below\"/><path class=\"ylines-below\"/><g class=\"overlines-below\"/><g class=\"xaxislayer-below\"/><g class=\"yaxislayer-below\"/><g class=\"overaxes-below\"/><g class=\"plot\" transform=\"translate(48,46)\" clip-path=\"url(#clip5e97e6xyplot)\"><g class=\"scatterlayer mlayer\"><g class=\"trace scatter tracefc318e1a-4784-4d13-abfa-6434f730331c\" style=\"stroke-miterlimit: 2; opacity: 1;\"><g class=\"fills\"/><g class=\"errorbars\"/><g class=\"lines\"><path class=\"js-line\" d=\"M34.85,239.85L71.67,235.5L108.49,244.2L145.31,147.4L182.13,134.5L218.95,99.01L255.77,133.24L292.59,93.11L329.41,70.95L366.23,38.96L403.05,78.38L439.87,43.45L476.69,16.8L513.51,32.51L550.33,22.27L587.15,42.61\" style=\"vector-effect: non-scaling-stroke; fill: none; stroke: rgb(31, 119, 180); stroke-opacity: 1; stroke-width: 2px; opacity: 1;\"/></g><g class=\"points\"><path class=\"point\" transform=\"translate(34.85,239.85)\" d=\"M3,0A3,3 0 1,1 0,-3A3,3 0 0,1 3,0Z\" style=\"opacity: 1; stroke-width: 0px; fill: rgb(31, 119, 180); fill-opacity: 1;\"/><path class=\"point\" transform=\"translate(71.67,235.5)\" d=\"M3,0A3,3 0 1,1 0,-3A3,3 0 0,1 3,0Z\" style=\"opacity: 1; stroke-width: 0px; fill: rgb(31, 119, 180); fill-opacity: 1;\"/><path class=\"point\" transform=\"translate(108.49,244.2)\" d=\"M3,0A3,3 0 1,1 0,-3A3,3 0 0,1 3,0Z\" style=\"opacity: 1; stroke-width: 0px; fill: rgb(31, 119, 180); fill-opacity: 1;\"/><path class=\"point\" transform=\"translate(145.31,147.4)\" d=\"M3,0A3,3 0 1,1 0,-3A3,3 0 0,1 3,0Z\" style=\"opacity: 1; stroke-width: 0px; fill: rgb(31, 119, 180); fill-opacity: 1;\"/><path class=\"point\" transform=\"translate(182.13,134.5)\" d=\"M3,0A3,3 0 1,1 0,-3A3,3 0 0,1 3,0Z\" style=\"opacity: 1; stroke-width: 0px; fill: rgb(31, 119, 180); fill-opacity: 1;\"/><path class=\"point\" transform=\"translate(218.95,99.01)\" d=\"M3,0A3,3 0 1,1 0,-3A3,3 0 0,1 3,0Z\" style=\"opacity: 1; stroke-width: 0px; fill: rgb(31, 119, 180); fill-opacity: 1;\"/><path class=\"point\" transform=\"translate(255.77,133.24)\" d=\"M3,0A3,3 0 1,1 0,-3A3,3 0 0,1 3,0Z\" style=\"opacity: 1; stroke-width: 0px; fill: rgb(31, 119, 180); fill-opacity: 1;\"/><path class=\"point\" transform=\"translate(292.59,93.11)\" d=\"M3,0A3,3 0 1,1 0,-3A3,3 0 0,1 3,0Z\" style=\"opacity: 1; stroke-width: 0px; fill: rgb(31, 119, 180); fill-opacity: 1;\"/><path class=\"point\" transform=\"translate(329.41,70.95)\" d=\"M3,0A3,3 0 1,1 0,-3A3,3 0 0,1 3,0Z\" style=\"opacity: 1; stroke-width: 0px; fill: rgb(31, 119, 180); fill-opacity: 1;\"/><path class=\"point\" transform=\"translate(366.23,38.96)\" d=\"M3,0A3,3 0 1,1 0,-3A3,3 0 0,1 3,0Z\" style=\"opacity: 1; stroke-width: 0px; fill: rgb(31, 119, 180); fill-opacity: 1;\"/><path class=\"point\" transform=\"translate(403.05,78.38)\" d=\"M3,0A3,3 0 1,1 0,-3A3,3 0 0,1 3,0Z\" style=\"opacity: 1; stroke-width: 0px; fill: rgb(31, 119, 180); fill-opacity: 1;\"/><path class=\"point\" transform=\"translate(439.87,43.45)\" d=\"M3,0A3,3 0 1,1 0,-3A3,3 0 0,1 3,0Z\" style=\"opacity: 1; stroke-width: 0px; fill: rgb(31, 119, 180); fill-opacity: 1;\"/><path class=\"point\" transform=\"translate(476.69,16.8)\" d=\"M3,0A3,3 0 1,1 0,-3A3,3 0 0,1 3,0Z\" style=\"opacity: 1; stroke-width: 0px; fill: rgb(31, 119, 180); fill-opacity: 1;\"/><path class=\"point\" transform=\"translate(513.51,32.51)\" d=\"M3,0A3,3 0 1,1 0,-3A3,3 0 0,1 3,0Z\" style=\"opacity: 1; stroke-width: 0px; fill: rgb(31, 119, 180); fill-opacity: 1;\"/><path class=\"point\" transform=\"translate(550.33,22.27)\" d=\"M3,0A3,3 0 1,1 0,-3A3,3 0 0,1 3,0Z\" style=\"opacity: 1; stroke-width: 0px; fill: rgb(31, 119, 180); fill-opacity: 1;\"/><path class=\"point\" transform=\"translate(587.15,42.61)\" d=\"M3,0A3,3 0 1,1 0,-3A3,3 0 0,1 3,0Z\" style=\"opacity: 1; stroke-width: 0px; fill: rgb(31, 119, 180); fill-opacity: 1;\"/></g><g class=\"text\"/></g><g class=\"trace scatter trace62d10d69-c123-48da-bec6-2fa99599d0c4\" style=\"stroke-miterlimit: 2; opacity: 1;\"><g class=\"fills\"/><g class=\"errorbars\"/><g class=\"lines\"><path class=\"js-line\" d=\"M145.31,147.4L255.77,147.4L292.59,93.11L403.05,93.11L439.87,43.45L550.33,43.45L587.15,42.61\" style=\"vector-effect: non-scaling-stroke; fill: none; stroke: rgb(255, 127, 14); stroke-opacity: 1; stroke-width: 2px; opacity: 1;\"/></g><g class=\"points\"><path class=\"point\" transform=\"translate(145.31,147.4)\" d=\"M3,0A3,3 0 1,1 0,-3A3,3 0 0,1 3,0Z\" style=\"opacity: 1; stroke-width: 0px; fill: rgb(255, 127, 14); fill-opacity: 1;\"/><path class=\"point\" transform=\"translate(182.13,147.4)\" d=\"M3,0A3,3 0 1,1 0,-3A3,3 0 0,1 3,0Z\" style=\"opacity: 1; stroke-width: 0px; fill: rgb(255, 127, 14); fill-opacity: 1;\"/><path class=\"point\" transform=\"translate(218.95,147.4)\" d=\"M3,0A3,3 0 1,1 0,-3A3,3 0 0,1 3,0Z\" style=\"opacity: 1; stroke-width: 0px; fill: rgb(255, 127, 14); fill-opacity: 1;\"/><path class=\"point\" transform=\"translate(255.77,147.4)\" d=\"M3,0A3,3 0 1,1 0,-3A3,3 0 0,1 3,0Z\" style=\"opacity: 1; stroke-width: 0px; fill: rgb(255, 127, 14); fill-opacity: 1;\"/><path class=\"point\" transform=\"translate(292.59,93.11)\" d=\"M3,0A3,3 0 1,1 0,-3A3,3 0 0,1 3,0Z\" style=\"opacity: 1; stroke-width: 0px; fill: rgb(255, 127, 14); fill-opacity: 1;\"/><path class=\"point\" transform=\"translate(329.41,93.11)\" d=\"M3,0A3,3 0 1,1 0,-3A3,3 0 0,1 3,0Z\" style=\"opacity: 1; stroke-width: 0px; fill: rgb(255, 127, 14); fill-opacity: 1;\"/><path class=\"point\" transform=\"translate(366.23,93.11)\" d=\"M3,0A3,3 0 1,1 0,-3A3,3 0 0,1 3,0Z\" style=\"opacity: 1; stroke-width: 0px; fill: rgb(255, 127, 14); fill-opacity: 1;\"/><path class=\"point\" transform=\"translate(403.05,93.11)\" d=\"M3,0A3,3 0 1,1 0,-3A3,3 0 0,1 3,0Z\" style=\"opacity: 1; stroke-width: 0px; fill: rgb(255, 127, 14); fill-opacity: 1;\"/><path class=\"point\" transform=\"translate(439.87,43.45)\" d=\"M3,0A3,3 0 1,1 0,-3A3,3 0 0,1 3,0Z\" style=\"opacity: 1; stroke-width: 0px; fill: rgb(255, 127, 14); fill-opacity: 1;\"/><path class=\"point\" transform=\"translate(476.69,43.45)\" d=\"M3,0A3,3 0 1,1 0,-3A3,3 0 0,1 3,0Z\" style=\"opacity: 1; stroke-width: 0px; fill: rgb(255, 127, 14); fill-opacity: 1;\"/><path class=\"point\" transform=\"translate(513.51,43.45)\" d=\"M3,0A3,3 0 1,1 0,-3A3,3 0 0,1 3,0Z\" style=\"opacity: 1; stroke-width: 0px; fill: rgb(255, 127, 14); fill-opacity: 1;\"/><path class=\"point\" transform=\"translate(550.33,43.45)\" d=\"M3,0A3,3 0 1,1 0,-3A3,3 0 0,1 3,0Z\" style=\"opacity: 1; stroke-width: 0px; fill: rgb(255, 127, 14); fill-opacity: 1;\"/><path class=\"point\" transform=\"translate(587.15,42.61)\" d=\"M3,0A3,3 0 1,1 0,-3A3,3 0 0,1 3,0Z\" style=\"opacity: 1; stroke-width: 0px; fill: rgb(255, 127, 14); fill-opacity: 1;\"/></g><g class=\"text\"/></g></g></g><g class=\"overplot\"/><path class=\"xlines-above crisp\" d=\"M0,0\" style=\"fill: none;\"/><path class=\"ylines-above crisp\" d=\"M0,0\" style=\"fill: none;\"/><g class=\"overlines-above\"/><g class=\"xaxislayer-above\"><g class=\"xtick\"><text text-anchor=\"middle\" x=\"0\" y=\"320\" transform=\"translate(82.85,0)\" style=\"font-family: 'Open Sans', verdana, arial, sans-serif; font-size: 12px; fill: rgb(42, 63, 95); fill-opacity: 1; white-space: pre; opacity: 1;\"><tspan class=\"line\" dy=\"0em\" x=\"0\" y=\"320\">00:00</tspan><tspan class=\"line\" dy=\"1.3em\" x=\"0\" y=\"320\">Aug 27, 2019</tspan></text></g><g class=\"xtick\"><text text-anchor=\"middle\" x=\"0\" y=\"320\" style=\"font-family: 'Open Sans', verdana, arial, sans-serif; font-size: 12px; fill: rgb(42, 63, 95); fill-opacity: 1; white-space: pre; opacity: 1;\" transform=\"translate(156.49,0)\">02:00</text></g><g class=\"xtick\"><text text-anchor=\"middle\" x=\"0\" y=\"320\" style=\"font-family: 'Open Sans', verdana, arial, sans-serif; font-size: 12px; fill: rgb(42, 63, 95); fill-opacity: 1; white-space: pre; opacity: 1;\" transform=\"translate(230.13,0)\">04:00</text></g><g class=\"xtick\"><text text-anchor=\"middle\" x=\"0\" y=\"320\" style=\"font-family: 'Open Sans', verdana, arial, sans-serif; font-size: 12px; fill: rgb(42, 63, 95); fill-opacity: 1; white-space: pre; opacity: 1;\" transform=\"translate(303.77,0)\">06:00</text></g><g class=\"xtick\"><text text-anchor=\"middle\" x=\"0\" y=\"320\" style=\"font-family: 'Open Sans', verdana, arial, sans-serif; font-size: 12px; fill: rgb(42, 63, 95); fill-opacity: 1; white-space: pre; opacity: 1;\" transform=\"translate(377.41,0)\">08:00</text></g><g class=\"xtick\"><text text-anchor=\"middle\" x=\"0\" y=\"320\" style=\"font-family: 'Open Sans', verdana, arial, sans-serif; font-size: 12px; fill: rgb(42, 63, 95); fill-opacity: 1; white-space: pre; opacity: 1;\" transform=\"translate(451.05,0)\">10:00</text></g><g class=\"xtick\"><text text-anchor=\"middle\" x=\"0\" y=\"320\" style=\"font-family: 'Open Sans', verdana, arial, sans-serif; font-size: 12px; fill: rgb(42, 63, 95); fill-opacity: 1; white-space: pre; opacity: 1;\" transform=\"translate(524.69,0)\">12:00</text></g><g class=\"xtick\"><text text-anchor=\"middle\" x=\"0\" y=\"320\" style=\"font-family: 'Open Sans', verdana, arial, sans-serif; font-size: 12px; fill: rgb(42, 63, 95); fill-opacity: 1; white-space: pre; opacity: 1;\" transform=\"translate(598.33,0)\">14:00</text></g></g><g class=\"yaxislayer-above\"><g class=\"ytick\"><text text-anchor=\"end\" x=\"47\" y=\"4.199999999999999\" transform=\"translate(0,278.41999999999996)\" style=\"font-family: 'Open Sans', verdana, arial, sans-serif; font-size: 12px; fill: rgb(42, 63, 95); fill-opacity: 1; white-space: pre; opacity: 1;\">1.222</text></g><g class=\"ytick\"><text text-anchor=\"end\" x=\"47\" y=\"4.199999999999999\" style=\"font-family: 'Open Sans', verdana, arial, sans-serif; font-size: 12px; fill: rgb(42, 63, 95); fill-opacity: 1; white-space: pre; opacity: 1;\" transform=\"translate(0,222.3)\">1.224</text></g><g class=\"ytick\"><text text-anchor=\"end\" x=\"47\" y=\"4.199999999999999\" style=\"font-family: 'Open Sans', verdana, arial, sans-serif; font-size: 12px; fill: rgb(42, 63, 95); fill-opacity: 1; white-space: pre; opacity: 1;\" transform=\"translate(0,166.19)\">1.226</text></g><g class=\"ytick\"><text text-anchor=\"end\" x=\"47\" y=\"4.199999999999999\" style=\"font-family: 'Open Sans', verdana, arial, sans-serif; font-size: 12px; fill: rgb(42, 63, 95); fill-opacity: 1; white-space: pre; opacity: 1;\" transform=\"translate(0,110.08)\">1.228</text></g><g class=\"ytick\"><text text-anchor=\"end\" x=\"47\" y=\"4.199999999999999\" style=\"font-family: 'Open Sans', verdana, arial, sans-serif; font-size: 12px; fill: rgb(42, 63, 95); fill-opacity: 1; white-space: pre; opacity: 1;\" transform=\"translate(0,53.96)\">1.23</text></g></g><g class=\"overaxes-above\"/></g></g><g class=\"polarlayer\"/><g class=\"smithlayer\"/><g class=\"ternarylayer\"/><g class=\"geolayer\"/><g class=\"funnelarealayer\"/><g class=\"pielayer\"/><g class=\"iciclelayer\"/><g class=\"treemaplayer\"/><g class=\"sunburstlayer\"/><g class=\"glimages\"/><defs id=\"topdefs-5e97e6\"><g class=\"clips\"/><clipPath id=\"legend5e97e6\"><rect width=\"148\" height=\"29\" x=\"0\" y=\"0\"/></clipPath></defs><g class=\"layer-above\"><g class=\"imagelayer\"/><g class=\"shapelayer\"/></g><g class=\"infolayer\"><g class=\"legend\" pointer-events=\"all\" transform=\"translate(522,11.779999999999994)\"><rect class=\"bg\" shape-rendering=\"crispEdges\" style=\"stroke: rgb(68, 68, 68); stroke-opacity: 1; fill: rgb(255, 255, 255); fill-opacity: 1; stroke-width: 0px;\" width=\"148\" height=\"29\" x=\"0\" y=\"0\"/><g class=\"scrollbox\" transform=\"\" clip-path=\"url(#legend5e97e6)\"><g class=\"groups\"><g class=\"traces\" transform=\"translate(0,14.5)\" style=\"opacity: 1;\"><text class=\"legendtext\" text-anchor=\"start\" x=\"40\" y=\"4.680000000000001\" style=\"font-family: 'Open Sans', verdana, arial, sans-serif; font-size: 12px; fill: rgb(42, 63, 95); fill-opacity: 1; white-space: pre;\">H1</text><g class=\"layers\" style=\"opacity: 1;\"><g class=\"legendfill\"/><g class=\"legendlines\"><path class=\"js-line\" d=\"M5,0h30\" style=\"fill: none; stroke: rgb(31, 119, 180); stroke-opacity: 1; stroke-width: 2px;\"/></g><g class=\"legendsymbols\"><g class=\"legendpoints\"><path class=\"scatterpts\" transform=\"translate(20,0)\" d=\"M3,0A3,3 0 1,1 0,-3A3,3 0 0,1 3,0Z\" style=\"opacity: 1; stroke-width: 0px; fill: rgb(31, 119, 180); fill-opacity: 1;\"/></g></g></g><rect class=\"legendtoggle\" x=\"0\" y=\"-9.5\" width=\"59.15625\" height=\"19\" style=\"fill: rgb(0, 0, 0); fill-opacity: 0;\"/></g><g class=\"traces\" transform=\"translate(61.65625,14.5)\" style=\"opacity: 1;\"><text class=\"legendtext\" text-anchor=\"start\" x=\"40\" y=\"4.680000000000001\" style=\"font-family: 'Open Sans', verdana, arial, sans-serif; font-size: 12px; fill: rgb(42, 63, 95); fill-opacity: 1; white-space: pre;\">H4_H1</text><g class=\"layers\" style=\"opacity: 1;\"><g class=\"legendfill\"/><g class=\"legendlines\"><path class=\"js-line\" d=\"M5,0h30\" style=\"fill: none; stroke: rgb(255, 127, 14); stroke-opacity: 1; stroke-width: 2px;\"/></g><g class=\"legendsymbols\"><g class=\"legendpoints\"><path class=\"scatterpts\" transform=\"translate(20,0)\" d=\"M3,0A3,3 0 1,1 0,-3A3,3 0 0,1 3,0Z\" style=\"opacity: 1; stroke-width: 0px; fill: rgb(255, 127, 14); fill-opacity: 1;\"/></g></g></g><rect class=\"legendtoggle\" x=\"0\" y=\"-9.5\" width=\"83.421875\" height=\"19\" style=\"fill: rgb(0, 0, 0); fill-opacity: 0;\"/></g></g></g><rect class=\"scrollbar\" rx=\"20\" ry=\"3\" width=\"0\" height=\"0\" style=\"fill: rgb(128, 139, 164); fill-opacity: 1;\" x=\"0\" y=\"0\"/></g><g class=\"g-gtitle\"/><g class=\"g-xtitle\"/><g class=\"g-ytitle\"/></g></svg>"
     },
     "metadata": {},
     "output_type": "display_data"
    }
   ],
   "source": [
    "fig = h1_close.rename(\"H1\").iloc[:16].vbt.plot()\n",
    "h4_h1_close.rename(\"H4_H1\").iloc[:16].vbt.plot(fig=fig).show_svg()"
   ]
  },
  {
   "cell_type": "markdown",
   "id": "47cb0a3b",
   "metadata": {},
   "source": [
    "## VBT"
   ]
  },
  {
   "cell_type": "markdown",
   "id": "f1c0cb50",
   "metadata": {},
   "source": [
    "Seems like a lot of work is required to do everything right? But don't worry, vectorbt has got your back! To resample an array safely, we can use GenericAccessor.resample_closing for information available only at the end of each bar, and GenericAccessor.resample_opening for information available already at the beginning of each bar:"
   ]
  },
  {
   "cell_type": "code",
   "execution_count": 15,
   "metadata": {},
   "outputs": [
    {
     "data": {
      "text/plain": [
       "time\n",
       "2019-08-27 00:00:00+00:00         NaN\n",
       "2019-08-27 01:00:00+00:00         NaN\n",
       "2019-08-27 02:00:00+00:00         NaN\n",
       "2019-08-27 03:00:00+00:00    1.225030\n",
       "2019-08-27 04:00:00+00:00    1.225030\n",
       "                               ...   \n",
       "2022-08-26 12:00:00+00:00    1.177480\n",
       "2022-08-26 13:00:00+00:00    1.177480\n",
       "2022-08-26 14:00:00+00:00    1.177480\n",
       "2022-08-26 15:00:00+00:00    1.173765\n",
       "2022-08-26 16:00:00+00:00    1.173765\n",
       "Freq: H, Name: Close, Length: 26297, dtype: float64"
      ]
     },
     "execution_count": 15,
     "metadata": {},
     "output_type": "execute_result"
    }
   ],
   "source": [
    "h4_close.vbt.resample_closing(\"1h\")"
   ]
  },
  {
   "cell_type": "code",
   "execution_count": 16,
   "id": "39225553",
   "metadata": {},
   "outputs": [
    {
     "data": {
      "text/plain": [
       "time\n",
       "2019-08-27 00:00:00+00:00    1.221095\n",
       "2019-08-27 01:00:00+00:00    1.221095\n",
       "2019-08-27 02:00:00+00:00    1.221095\n",
       "2019-08-27 03:00:00+00:00    1.221095\n",
       "2019-08-27 04:00:00+00:00    1.225045\n",
       "                               ...   \n",
       "2022-08-26 12:00:00+00:00    1.177490\n",
       "2022-08-26 13:00:00+00:00    1.177490\n",
       "2022-08-26 14:00:00+00:00    1.177490\n",
       "2022-08-26 15:00:00+00:00    1.177490\n",
       "2022-08-26 16:00:00+00:00    1.173765\n",
       "Freq: H, Name: Open, Length: 26297, dtype: float64"
      ]
     },
     "execution_count": 16,
     "metadata": {},
     "output_type": "execute_result"
    }
   ],
   "source": [
    "h4_open  = h4_data.get(\"Open\")\n",
    "h4_open.vbt.resample_opening(\"1h\")"
   ]
  },
  {
   "cell_type": "markdown",
   "id": "9922fdf2",
   "metadata": {},
   "source": [
    "Note: Use `resample_opening` only if information in the array happens exactly at the beginning of the bar (such as open price), and `resample_closing` if information happens after that (such as high, low, and close price)."
   ]
  },
  {
   "cell_type": "code",
   "execution_count": 17,
   "id": "3b0ca1eb",
   "metadata": {},
   "outputs": [
    {
     "data": {
      "text/plain": [
       "time\n",
       "2019-08-27 00:00:00+00:00    1.225030\n",
       "2019-08-27 04:00:00+00:00    1.226965\n",
       "2019-08-27 08:00:00+00:00    1.228735\n",
       "2019-08-27 12:00:00+00:00    1.228765\n",
       "2019-08-27 16:00:00+00:00    1.228070\n",
       "                               ...   \n",
       "2022-08-26 00:00:00+00:00    1.178830\n",
       "2022-08-26 04:00:00+00:00    1.182145\n",
       "2022-08-26 08:00:00+00:00    1.177480\n",
       "2022-08-26 12:00:00+00:00    1.173765\n",
       "2022-08-26 16:00:00+00:00    1.174355\n",
       "Freq: 4H, Name: Close, Length: 6575, dtype: float64"
      ]
     },
     "execution_count": 17,
     "metadata": {},
     "output_type": "execute_result"
    }
   ],
   "source": [
    "h4_close"
   ]
  },
  {
   "cell_type": "markdown",
   "id": "4d5816fe",
   "metadata": {},
   "source": [
    "We can also use `Resampler.from_pd_date_range` to build our custom hourly index starting from a custom start time and ending at custom end time"
   ]
  },
  {
   "cell_type": "code",
   "execution_count": 19,
   "id": "14a51cba",
   "metadata": {},
   "outputs": [
    {
     "data": {
      "text/plain": [
       "2022-01-01 10:00:00    1.352055\n",
       "2022-01-01 11:00:00    1.352055\n",
       "2022-01-01 12:00:00    1.352055\n",
       "2022-01-01 13:00:00    1.352055\n",
       "2022-01-01 14:00:00    1.352055\n",
       "                         ...   \n",
       "2022-08-26 18:00:00    1.173765\n",
       "2022-08-26 19:00:00    1.174355\n",
       "2022-08-26 20:00:00    1.174355\n",
       "2022-08-26 21:00:00    1.174355\n",
       "2022-08-26 22:00:00    1.174355\n",
       "Freq: H, Name: Close, Length: 5701, dtype: float64"
      ]
     },
     "execution_count": 19,
     "metadata": {},
     "output_type": "execute_result"
    }
   ],
   "source": [
    "resampler = vbt.Resampler.from_pd_date_range(\n",
    "source_index=h4_close.index,\n",
    "source_freq=\"4h\",\n",
    "start=\"2022-01-01 10:00:00\",\n",
    "end=\"2022-08-26 22:00:00\",\n",
    "freq=\"1h\",\n",
    ")\n",
    "\n",
    "h4_close.vbt.resample_closing(resampler)"
   ]
  },
  {
   "cell_type": "markdown",
   "id": "d3c0a5aa",
   "metadata": {},
   "source": [
    "### Adding Indicators"
   ]
  },
  {
   "cell_type": "code",
   "execution_count": 26,
   "id": "0093d363",
   "metadata": {},
   "outputs": [
    {
     "name": "stdout",
     "output_type": "stream",
     "text": [
      "{'HT_DCPERIOD', 'DIV', 'CDLCONCEALBABYSWALL', 'SINH', 'WILLR', 'CDLTRISTAR', 'CDLHAMMER', 'CDLLONGLEGGEDDOJI', 'MFI', 'SMA', 'PPO', 'CDLIDENTICAL3CROWS', 'PLUS_DI', 'BBANDS', 'WCLPRICE', 'BOP', 'LINEARREG_INTERCEPT', 'CDLSHORTLINE', 'ATR', 'CCI', 'AD', 'STDDEV', 'CDLINVERTEDHAMMER', 'CDL3INSIDE', 'CDL2CROWS', 'MAXINDEX', 'KAMA', 'HT_DCPHASE', 'LINEARREG_SLOPE', 'CDLSTALLEDPATTERN', 'CDL3OUTSIDE', 'MIDPRICE', 'SUB', 'LINEARREG', 'SQRT', 'CORREL', 'CDLABANDONEDBABY', 'STOCH', 'COS', 'BETA', 'CDLMATCHINGLOW', 'DX', 'ADOSC', 'CDLTASUKIGAP', 'CDL3LINESTRIKE', 'CDLHANGINGMAN', 'MININDEX', 'MINUS_DI', 'TANH', 'ROCR100', 'CDLHOMINGPIGEON', 'CDLSEPARATINGLINES', 'RSI', 'SAREXT', 'LN', 'ROCP', 'CDLINNECK', 'OBV', 'TAN', 'HT_TRENDMODE', 'CDLDOJI', 'HT_TRENDLINE', 'CDLENGULFING', 'CDLHIKKAKEMOD', 'CEIL', 'LINEARREG_ANGLE', 'EXP', 'AROON', 'CDLGRAVESTONEDOJI', 'CDLRICKSHAWMAN', 'CDLTHRUSTING', 'CDLONNECK', 'CDLCOUNTERATTACK', 'CDLKICKINGBYLENGTH', 'CDLKICKING', 'MA', 'CDLADVANCEBLOCK', 'CDLLONGLINE', 'CDLGAPSIDESIDEWHITE', 'HT_PHASOR', 'CDLTAKURI', 'MINMAX', 'ROCR', 'ASIN', 'CDLPIERCING', 'DEMA', 'WMA', 'CDLCLOSINGMARUBOZU', 'EMA', 'CDLHARAMI', 'CDLSTICKSANDWICH', 'ADXR', 'CDL3STARSINSOUTH', 'CDLXSIDEGAP3METHODS', 'HT_SINE', 'T3', 'MINUS_DM', 'CDL3WHITESOLDIERS', 'CMO', 'ACOS', 'MACDEXT', 'MACDFIX', 'CDLMATHOLD', 'CDLDRAGONFLYDOJI', 'MAX', 'ADD', 'CDLHIKKAKE', 'CDLBELTHOLD', 'SIN', 'AROONOSC', 'CDLMORNINGDOJISTAR', 'TRIX', 'APO', 'PLUS_DM', 'FLOOR', 'CDLHIGHWAVE', 'CDLMARUBOZU', 'CDL3BLACKCROWS', 'TYPPRICE', 'CDLEVENINGDOJISTAR', 'VAR', 'ULTOSC', 'MEDPRICE', 'MIN', 'CDLSPINNINGTOP', 'TRANGE', 'SUM', 'CDLUNIQUE3RIVER', 'COSH', 'CDLBREAKAWAY', 'CDLLADDERBOTTOM', 'CDLRISEFALL3METHODS', 'ADX', 'CDLDOJISTAR', 'MIDPOINT', 'CDLMORNINGSTAR', 'MULT', 'ATAN', 'AVGPRICE', 'MACD', 'CDLDARKCLOUDCOVER', 'TEMA', 'STOCHRSI', 'STOCHF', 'MINMAXINDEX', 'CDLEVENINGSTAR', 'SAR', 'MAMA', 'NATR', 'CDLHARAMICROSS', 'LOG10', 'CDLSHOOTINGSTAR', 'ROC', 'TRIMA', 'MOM', 'MAVP', 'TSF', 'CDLUPSIDEGAP2CROWS'}\n"
     ]
    }
   ],
   "source": [
    "## VBT has all the talib indicators built in\n",
    "print(vbt.IF.get_talib_indicators() )"
   ]
  },
  {
   "cell_type": "code",
   "execution_count": 22,
   "id": "a94b5c25",
   "metadata": {},
   "outputs": [
    {
     "data": {
      "text/plain": [
       "vectorbtpro.indicators.factory.talib.RSI"
      ]
     },
     "execution_count": 22,
     "metadata": {},
     "output_type": "execute_result"
    }
   ],
   "source": [
    "vbt.talib('RSI')"
   ]
  },
  {
   "cell_type": "code",
   "execution_count": 23,
   "id": "0122ed39",
   "metadata": {},
   "outputs": [
    {
     "data": {
      "text/plain": [
       "vectorbtpro.indicators.factory.talib.BBANDS"
      ]
     },
     "execution_count": 23,
     "metadata": {},
     "output_type": "execute_result"
    }
   ],
   "source": [
    "vbt.talib('BBANDS')"
   ]
  },
  {
   "cell_type": "code",
   "execution_count": 28,
   "id": "a816dc1d",
   "metadata": {},
   "outputs": [
    {
     "data": {
      "text/plain": [
       "time\n",
       "2019-08-27 00:00:00+00:00         NaN\n",
       "2019-08-27 04:00:00+00:00         NaN\n",
       "2019-08-27 08:00:00+00:00         NaN\n",
       "2019-08-27 12:00:00+00:00         NaN\n",
       "2019-08-27 16:00:00+00:00         NaN\n",
       "                               ...   \n",
       "2022-08-26 00:00:00+00:00    1.180568\n",
       "2022-08-26 04:00:00+00:00    1.180602\n",
       "2022-08-26 08:00:00+00:00    1.180419\n",
       "2022-08-26 12:00:00+00:00    1.180122\n",
       "2022-08-26 16:00:00+00:00    1.179874\n",
       "Freq: 4H, Name: Close, Length: 6575, dtype: float64"
      ]
     },
     "execution_count": 28,
     "metadata": {},
     "output_type": "execute_result"
    }
   ],
   "source": [
    "h4_sma = vbt.talib(\"SMA\").run(h4_data.get(\"Close\"), skipna=True).real\n",
    "h4_sma"
   ]
  },
  {
   "cell_type": "code",
   "execution_count": 55,
   "id": "a65f1f0c",
   "metadata": {},
   "outputs": [
    {
     "data": {
      "text/plain": [
       "time\n",
       "2019-08-27 03:45:00+00:00          NaN\n",
       "2019-08-27 04:00:00+00:00          NaN\n",
       "2019-08-27 04:15:00+00:00          NaN\n",
       "2019-08-27 04:30:00+00:00          NaN\n",
       "2019-08-27 04:45:00+00:00          NaN\n",
       "2019-08-27 05:00:00+00:00          NaN\n",
       "2019-08-27 05:15:00+00:00    66.794995\n",
       "2019-08-27 05:30:00+00:00    68.085106\n",
       "2019-08-27 05:45:00+00:00    72.800915\n",
       "2019-08-27 06:00:00+00:00    70.051812\n",
       "2019-08-27 06:15:00+00:00    70.352527\n",
       "2019-08-27 06:30:00+00:00    70.992007\n",
       "2019-08-27 06:45:00+00:00    63.883656\n",
       "2019-08-27 07:00:00+00:00    66.210081\n",
       "2019-08-27 07:15:00+00:00    67.966770\n",
       "2019-08-27 07:30:00+00:00    69.820159\n",
       "2019-08-27 07:45:00+00:00    66.327923\n",
       "2019-08-27 08:00:00+00:00    68.741302\n",
       "2019-08-27 08:15:00+00:00    69.344878\n",
       "2019-08-27 08:30:00+00:00    69.577889\n",
       "Freq: 15T, Name: Close, dtype: float64"
      ]
     },
     "execution_count": 55,
     "metadata": {},
     "output_type": "execute_result"
    }
   ],
   "source": [
    "m15_rsi = vbt.talib(\"RSI\", timeperiod = 21).run(m15_data.get(\"Close\"), skipna=True).real\n",
    "m15_rsi[15:35]"
   ]
  },
  {
   "cell_type": "code",
   "execution_count": 45,
   "metadata": {},
   "outputs": [
    {
     "data": {
      "text/plain": [
       "time\n",
       "2019-08-27 00:00:00+00:00         NaN\n",
       "2019-08-27 00:15:00+00:00         NaN\n",
       "2019-08-27 00:30:00+00:00         NaN\n",
       "2019-08-27 00:45:00+00:00         NaN\n",
       "2019-08-27 01:00:00+00:00         NaN\n",
       "                               ...   \n",
       "2022-08-26 15:45:00+00:00    1.175336\n",
       "2022-08-26 16:00:00+00:00    1.175108\n",
       "2022-08-26 16:15:00+00:00    1.174983\n",
       "2022-08-26 16:30:00+00:00    1.174850\n",
       "2022-08-26 16:45:00+00:00    1.174788\n",
       "Freq: 15T, Name: Close, Length: 105188, dtype: float64"
      ]
     },
     "execution_count": 45,
     "metadata": {},
     "output_type": "execute_result"
    }
   ],
   "source": [
    "m15_ema = vbt.talib(\"EMA\", timeperiod = 15 ).run(m15_data.get(\"Close\"), skipna=True).real\n",
    "m15_ema"
   ]
  },
  {
   "cell_type": "code",
   "execution_count": 50,
   "id": "f547e897",
   "metadata": {},
   "outputs": [
    {
     "data": {
      "text/plain": [
       "time\n",
       "2019-08-27 00:00:00+00:00         NaN\n",
       "2019-08-27 00:15:00+00:00         NaN\n",
       "2019-08-27 00:30:00+00:00         NaN\n",
       "2019-08-27 00:45:00+00:00         NaN\n",
       "2019-08-27 01:00:00+00:00    1.221149\n",
       "                               ...   \n",
       "2022-08-26 15:45:00+00:00    1.173478\n",
       "2022-08-26 16:00:00+00:00    1.173250\n",
       "2022-08-26 16:15:00+00:00    1.173355\n",
       "2022-08-26 16:30:00+00:00    1.173395\n",
       "2022-08-26 16:45:00+00:00    1.173354\n",
       "Freq: 15T, Name: Close, Length: 105188, dtype: float64"
      ]
     },
     "execution_count": 50,
     "metadata": {},
     "output_type": "execute_result"
    }
   ],
   "source": [
    "m15_bbands = vbt.talib(\"BBANDS\").run(m15_data.get(\"Close\"), skipna=True)\n",
    "m15_bbands.lowerband"
   ]
  },
  {
   "cell_type": "code",
   "execution_count": 51,
   "id": "8088ab85",
   "metadata": {},
   "outputs": [
    {
     "data": {
      "text/plain": [
       "time\n",
       "2019-08-27 00:00:00+00:00         NaN\n",
       "2019-08-27 00:15:00+00:00         NaN\n",
       "2019-08-27 00:30:00+00:00         NaN\n",
       "2019-08-27 00:45:00+00:00         NaN\n",
       "2019-08-27 01:00:00+00:00    1.221657\n",
       "                               ...   \n",
       "2022-08-26 15:45:00+00:00    1.174085\n",
       "2022-08-26 16:00:00+00:00    1.173909\n",
       "2022-08-26 16:15:00+00:00    1.173847\n",
       "2022-08-26 16:30:00+00:00    1.173800\n",
       "2022-08-26 16:45:00+00:00    1.173931\n",
       "Freq: 15T, Name: Close, Length: 105188, dtype: float64"
      ]
     },
     "execution_count": 51,
     "metadata": {},
     "output_type": "execute_result"
    }
   ],
   "source": [
    "m15_bbands.middleband"
   ]
  },
  {
   "cell_type": "code",
   "execution_count": 52,
   "id": "72cd8d70",
   "metadata": {},
   "outputs": [
    {
     "data": {
      "text/plain": [
       "time\n",
       "2019-08-27 00:00:00+00:00         NaN\n",
       "2019-08-27 00:15:00+00:00         NaN\n",
       "2019-08-27 00:30:00+00:00         NaN\n",
       "2019-08-27 00:45:00+00:00         NaN\n",
       "2019-08-27 01:00:00+00:00    1.222165\n",
       "                               ...   \n",
       "2022-08-26 15:45:00+00:00    1.174692\n",
       "2022-08-26 16:00:00+00:00    1.174568\n",
       "2022-08-26 16:15:00+00:00    1.174339\n",
       "2022-08-26 16:30:00+00:00    1.174205\n",
       "2022-08-26 16:45:00+00:00    1.174508\n",
       "Freq: 15T, Name: Close, Length: 105188, dtype: float64"
      ]
     },
     "execution_count": 52,
     "metadata": {},
     "output_type": "execute_result"
    }
   ],
   "source": [
    "m15_bbands.upperband"
   ]
  },
  {
   "cell_type": "code",
   "execution_count": 56,
   "id": "91df5622",
   "metadata": {},
   "outputs": [],
   "source": [
    "m15_bbands_rsi = vbt.talib(\"BBANDS\").run(m15_rsi, skipna=True)"
   ]
  },
  {
   "cell_type": "code",
   "execution_count": 57,
   "metadata": {},
   "outputs": [
    {
     "data": {
      "text/plain": [
       "time\n",
       "2019-08-27 00:00:00+00:00          NaN\n",
       "2019-08-27 00:15:00+00:00          NaN\n",
       "2019-08-27 00:30:00+00:00          NaN\n",
       "2019-08-27 00:45:00+00:00          NaN\n",
       "2019-08-27 01:00:00+00:00          NaN\n",
       "                               ...    \n",
       "2022-08-26 15:45:00+00:00    33.463077\n",
       "2022-08-26 16:00:00+00:00    33.073149\n",
       "2022-08-26 16:15:00+00:00    33.293702\n",
       "2022-08-26 16:30:00+00:00    33.535274\n",
       "2022-08-26 16:45:00+00:00    34.467586\n",
       "Freq: 15T, Name: Close, Length: 105188, dtype: float64"
      ]
     },
     "execution_count": 57,
     "metadata": {},
     "output_type": "execute_result"
    }
   ],
   "source": [
    "m15_bbands_rsi.middleband"
   ]
  },
  {
   "cell_type": "code",
   "execution_count": null,
   "metadata": {},
   "outputs": [],
   "source": []
  },
  {
   "cell_type": "code",
   "execution_count": null,
   "id": "e79ba618",
   "metadata": {},
   "outputs": [],
   "source": []
  }
 ],
 "metadata": {
  "kernelspec": {
   "display_name": "Python 3.10.4 ('vbt')",
   "language": "python",
   "name": "python3"
  },
  "language_info": {
   "codemirror_mode": {
    "name": "ipython",
    "version": 3
   },
   "file_extension": ".py",
   "mimetype": "text/x-python",
   "name": "python",
   "nbconvert_exporter": "python",
   "pygments_lexer": "ipython3",
   "version": "3.10.4"
  },
  "vscode": {
   "interpreter": {
    "hash": "553d3b352623cb609a2efe4df91242fdc89d5ebcee56d9279e2aa2c11b529c13"
   }
  }
 },
 "nbformat": 4,
 "nbformat_minor": 5
}
